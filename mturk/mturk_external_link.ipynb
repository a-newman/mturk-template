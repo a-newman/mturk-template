{
 "cells": [
  {
   "cell_type": "markdown",
   "metadata": {},
   "source": [
    "# Introduction"
   ]
  },
  {
   "cell_type": "markdown",
   "metadata": {},
   "source": [
    "This notebook will walk you through creating and monitoring your HITs. \n",
    "\n",
    "It provides methods to create HITs, pretty-print HIT and assignment status, expire/edit HITs, create qualifications, and download collected data. \n",
    "\n",
    "## Requirements: \n",
    "\n",
    "This code requires Python3 and the following packages: \n",
    "- boto3 \n",
    "- beautiful soup 4\n",
    "\n",
    "Before using, you will have to set up an authentication key to use the Amazon API and include it in a credentials file. See here: https://aws.amazon.com/developers/getting-started/python/"
   ]
  },
  {
   "cell_type": "markdown",
   "metadata": {},
   "source": [
    "# Setup"
   ]
  },
  {
   "cell_type": "markdown",
   "metadata": {},
   "source": [
    "Read the config file and establish a connection to MTurk.\n",
    "\n",
    "A connection is made to production or to the sandbox based on values in the config. "
   ]
  },
  {
   "cell_type": "code",
   "execution_count": 91,
   "metadata": {},
   "outputs": [],
   "source": [
    "import datetime\n",
    "\n",
    "# path to the config file \n",
    "CONFIG_PATH = \"../config.json\"\n",
    "\n",
    "# where to save downloaded results \n",
    "SAVE_PATH = \"data.json\" "
   ]
  },
  {
   "cell_type": "code",
   "execution_count": 64,
   "metadata": {},
   "outputs": [
    {
     "name": "stdout",
     "output_type": "stream",
     "text": [
      "USING SANDBOX\n",
      "TASK URL: http://localhost:8000?origin=sandbox\n"
     ]
    }
   ],
   "source": [
    "import boto3\n",
    "import json\n",
    "import copy\n",
    "\n",
    "_USING_PROD = None\n",
    "\n",
    "# Read config and extract relevant settings\n",
    "with open(CONFIG_PATH, 'r') as f:\n",
    "    config = json.loads(f.read())\n",
    "    hit_config = config['hitCreation']\n",
    "    url = hit_config['taskUrl']\n",
    "\n",
    "# Connection to production or sandbox \n",
    "if hit_config['production']:\n",
    "    print(\"USING PROD\")\n",
    "    _USING_PROD = True\n",
    "    endpoint_url = 'https://mturk-requester.us-east-1.amazonaws.com'\n",
    "    origin=\"production\"\n",
    "else:\n",
    "    print(\"USING SANDBOX\")\n",
    "    _USING_PROD = False\n",
    "    endpoint_url = 'https://mturk-requester-sandbox.us-east-1.amazonaws.com'\n",
    "    origin=\"sandbox\"\n",
    "    \n",
    "hit_url = \"%s?origin=%s\" % (url, origin)\n",
    "\n",
    "# Create an API connection\n",
    "session = boto3.session.Session(profile_name='default')\n",
    "cl = session.client('mturk', region_name='us-east-1', endpoint_url=endpoint_url)\n",
    "\n",
    "print(\"TASK URL: \" + hit_url)\n"
   ]
  },
  {
   "cell_type": "markdown",
   "metadata": {},
   "source": [
    "# Make new HIT"
   ]
  },
  {
   "cell_type": "code",
   "execution_count": 73,
   "metadata": {},
   "outputs": [],
   "source": [
    "# Safety flags that prevent you from accidentally messing up your HITs. \n",
    "# Set to False except when you are performing these specific tasks. \n",
    "ALLOW_HIT_CREATION = True\n",
    "ALLOW_ASSIGNMENT_ADDITION = False\n",
    "ALLOW_CREATE_QUAL = False\n",
    "ALLOW_UPDATE_EXPIRATION = True"
   ]
  },
  {
   "cell_type": "code",
   "execution_count": 74,
   "metadata": {},
   "outputs": [],
   "source": [
    "# List of qualifications that you will use to filter potential workers. \n",
    "# These require that workers come from the US and have an approval rating >= 95%\n",
    "# Edit this list to specify different qualifications for workers \n",
    "QUALS = [\n",
    "       {\n",
    "           'QualificationTypeId': '00000000000000000071',\n",
    "           'Comparator': 'EqualTo',\n",
    "           'LocaleValues': [{\n",
    "               'Country': 'US',\n",
    "           }],\n",
    "       },\n",
    "        \n",
    "       {\n",
    "           'QualificationTypeId': '000000000000000000L0',\n",
    "           'Comparator': 'GreaterThanOrEqualTo',\n",
    "           'IntegerValues': [\n",
    "               95\n",
    "           ],\n",
    "       },\n",
    "    ]"
   ]
  },
  {
   "cell_type": "code",
   "execution_count": 75,
   "metadata": {},
   "outputs": [
    {
     "name": "stdout",
     "output_type": "stream",
     "text": [
      "<QuestionForm xmlns=\"http://mechanicalturk.amazonaws.com/AWSMechanicalTurkDataSchemas/2005-10-01/QuestionForm.xsd\">\n",
      "    <Overview>\n",
      "        <FormattedContent><![CDATA[\n",
      "            <h1><strong>HIT Title</strong></h1>\n",
      "            <h2>Description</h2>\n",
      "            <h4>HIT description</h4>\n",
      "            <h2>Instructions: </h2>\n",
      "            <h4>Please follow the link below to complete the task. At the end of the task, you will be given a completion code. Paste the code into the text box below.</h4>\n",
      "            <h1><strong><a href=\"http://localhost:8000?origin=sandbox\">Link to the task</a></strong></h1>\n",
      "        ]]>\n",
      "        </FormattedContent>\n",
      "    </Overview>\n",
      "    <Question>\n",
      "        <QuestionIdentifier>key</QuestionIdentifier>\n",
      "        <DisplayName>Completion Code</DisplayName>\n",
      "        <IsRequired>true</IsRequired>\n",
      "        <QuestionContent>\n",
      "            <Text>Please enter your completion code here: </Text>\n",
      "        </QuestionContent>\n",
      "        <AnswerSpecification>\n",
      "            <FreeTextAnswer>\n",
      "                <Constraints>\n",
      "                    <Length minLength=\"3\" maxLength=\"100\"/>\n",
      "                </Constraints>\n",
      "                <NumberOfLinesSuggestion>1</NumberOfLinesSuggestion>\n",
      "            </FreeTextAnswer>\n",
      "        </AnswerSpecification>\n",
      "    </Question>\n",
      "</QuestionForm>\n",
      "\n"
     ]
    }
   ],
   "source": [
    "# defines the Mturk-internal UI for our task. \n",
    "# It will be very basic: a title, some brief instructions with a link to our website, and \n",
    "# an input box where workers will paste their code when they are done. \n",
    "# Actual XML for the question is stored in questionform_template.xml. \n",
    "def get_question_xml(should_print=False):\n",
    "    with open('questionform_template.xml', 'r') as myfile:\n",
    "        template=myfile.read() #.replace('\\n', '')\n",
    "\n",
    "    xml= template % (hit_config[\"title\"], hit_config[\"description\"], hit_url)\n",
    "    if (should_print):\n",
    "        print(xml)\n",
    "    return xml\n",
    "\n",
    "question_xml = get_question_xml(should_print=True)"
   ]
  },
  {
   "cell_type": "code",
   "execution_count": 76,
   "metadata": {},
   "outputs": [],
   "source": [
    "# Helper to create a HIT in the form of an External Question inside an iFrame\n",
    "def create_hit(task):\n",
    "   \n",
    "    question_xml = get_question_xml()\n",
    "    \n",
    "    response = cl.create_hit(\n",
    "        MaxAssignments=task['numAssignments'],\n",
    "        AutoApprovalDelayInSeconds=604800,\n",
    "        LifetimeInSeconds=task['lifetime'],\n",
    "        AssignmentDurationInSeconds=task['duration'],\n",
    "        Reward=task['rewardAmount'],\n",
    "        Title=task['title'],\n",
    "        Keywords=task['keywords'],\n",
    "        Description=task['description'],\n",
    "        Question=question_xml,\n",
    "        QualificationRequirements=QUALS,\n",
    "    )\n",
    "\n",
    "    print(response)\n",
    "    print(\"\\n\")"
   ]
  },
  {
   "cell_type": "code",
   "execution_count": 77,
   "metadata": {},
   "outputs": [
    {
     "name": "stdout",
     "output_type": "stream",
     "text": [
      "creating 5 tasks\n",
      "{'HIT': {'HITId': '3ZTE0JGGCE1SG1XRL90IP571DS7COA', 'HITTypeId': '399N3OLPKFFY060NXFW9KIPX131HUY', 'HITGroupId': '3SIEQXXS6FIUB9V4QDXE6VCZAQ2Q4K', 'CreationTime': datetime.datetime(2018, 10, 23, 13, 35, 36, tzinfo=tzlocal()), 'Title': 'HIT Title', 'Description': 'HIT description', 'Question': '<QuestionForm xmlns=\"http://mechanicalturk.amazonaws.com/AWSMechanicalTurkDataSchemas/2005-10-01/QuestionForm.xsd\">\\n    <Overview>\\n        <FormattedContent><![CDATA[\\n            <h1><strong>HIT Title</strong></h1>\\n            <h2>Description</h2>\\n            <h4>HIT description</h4>\\n            <h2>Instructions: </h2>\\n            <h4>Please follow the link below to complete the task. At the end of the task, you will be given a completion code. Paste the code into the text box below.</h4>\\n            <h1><strong><a href=\"http://localhost:8000?origin=sandbox\">Link to the task</a></strong></h1>\\n        ]]>\\n        </FormattedContent>\\n    </Overview>\\n    <Question>\\n        <QuestionIdentifier>key</QuestionIdentifier>\\n        <DisplayName>Completion Code</DisplayName>\\n        <IsRequired>true</IsRequired>\\n        <QuestionContent>\\n            <Text>Please enter your completion code here: </Text>\\n        </QuestionContent>\\n        <AnswerSpecification>\\n            <FreeTextAnswer>\\n                <Constraints>\\n                    <Length minLength=\"3\" maxLength=\"100\"/>\\n                </Constraints>\\n                <NumberOfLinesSuggestion>1</NumberOfLinesSuggestion>\\n            </FreeTextAnswer>\\n        </AnswerSpecification>\\n    </Question>\\n</QuestionForm>\\n', 'Keywords': 'these, are, your, HIT, tags', 'HITStatus': 'Assignable', 'MaxAssignments': 100, 'Reward': '0.00', 'AutoApprovalDelayInSeconds': 604800, 'Expiration': datetime.datetime(2018, 10, 24, 13, 35, 36, tzinfo=tzlocal()), 'AssignmentDurationInSeconds': 1200, 'QualificationRequirements': [{'QualificationTypeId': '00000000000000000071', 'Comparator': 'EqualTo', 'LocaleValues': [{'Country': 'US'}], 'RequiredToPreview': False, 'ActionsGuarded': 'Accept'}, {'QualificationTypeId': '000000000000000000L0', 'Comparator': 'GreaterThanOrEqualTo', 'IntegerValues': [95], 'RequiredToPreview': False, 'ActionsGuarded': 'Accept'}], 'HITReviewStatus': 'NotReviewed', 'NumberOfAssignmentsPending': 0, 'NumberOfAssignmentsAvailable': 100, 'NumberOfAssignmentsCompleted': 0}, 'ResponseMetadata': {'RequestId': 'bd2073fc-b9ac-4922-8188-b213cb1fe38f', 'HTTPStatusCode': 200, 'HTTPHeaders': {'x-amzn-requestid': 'bd2073fc-b9ac-4922-8188-b213cb1fe38f', 'content-type': 'application/x-amz-json-1.1', 'content-length': '2221', 'date': 'Tue, 23 Oct 2018 17:35:36 GMT'}, 'RetryAttempts': 0}}\n",
      "\n",
      "\n",
      "{'HIT': {'HITId': '341YLJU21I85MXUMQLY7TV2TPSVI2C', 'HITTypeId': '399N3OLPKFFY060NXFW9KIPX131HUY', 'HITGroupId': '3SIEQXXS6FIUB9V4QDXE6VCZAQ2Q4K', 'CreationTime': datetime.datetime(2018, 10, 23, 13, 35, 36, tzinfo=tzlocal()), 'Title': 'HIT Title', 'Description': 'HIT description', 'Question': '<QuestionForm xmlns=\"http://mechanicalturk.amazonaws.com/AWSMechanicalTurkDataSchemas/2005-10-01/QuestionForm.xsd\">\\n    <Overview>\\n        <FormattedContent><![CDATA[\\n            <h1><strong>HIT Title</strong></h1>\\n            <h2>Description</h2>\\n            <h4>HIT description</h4>\\n            <h2>Instructions: </h2>\\n            <h4>Please follow the link below to complete the task. At the end of the task, you will be given a completion code. Paste the code into the text box below.</h4>\\n            <h1><strong><a href=\"http://localhost:8000?origin=sandbox\">Link to the task</a></strong></h1>\\n        ]]>\\n        </FormattedContent>\\n    </Overview>\\n    <Question>\\n        <QuestionIdentifier>key</QuestionIdentifier>\\n        <DisplayName>Completion Code</DisplayName>\\n        <IsRequired>true</IsRequired>\\n        <QuestionContent>\\n            <Text>Please enter your completion code here: </Text>\\n        </QuestionContent>\\n        <AnswerSpecification>\\n            <FreeTextAnswer>\\n                <Constraints>\\n                    <Length minLength=\"3\" maxLength=\"100\"/>\\n                </Constraints>\\n                <NumberOfLinesSuggestion>1</NumberOfLinesSuggestion>\\n            </FreeTextAnswer>\\n        </AnswerSpecification>\\n    </Question>\\n</QuestionForm>\\n', 'Keywords': 'these, are, your, HIT, tags', 'HITStatus': 'Assignable', 'MaxAssignments': 100, 'Reward': '0.00', 'AutoApprovalDelayInSeconds': 604800, 'Expiration': datetime.datetime(2018, 10, 24, 13, 35, 36, tzinfo=tzlocal()), 'AssignmentDurationInSeconds': 1200, 'QualificationRequirements': [{'QualificationTypeId': '00000000000000000071', 'Comparator': 'EqualTo', 'LocaleValues': [{'Country': 'US'}], 'RequiredToPreview': False, 'ActionsGuarded': 'Accept'}, {'QualificationTypeId': '000000000000000000L0', 'Comparator': 'GreaterThanOrEqualTo', 'IntegerValues': [95], 'RequiredToPreview': False, 'ActionsGuarded': 'Accept'}], 'HITReviewStatus': 'NotReviewed', 'NumberOfAssignmentsPending': 0, 'NumberOfAssignmentsAvailable': 100, 'NumberOfAssignmentsCompleted': 0}, 'ResponseMetadata': {'RequestId': '4d294bc0-f400-43a2-acb6-9d92e7ad2663', 'HTTPStatusCode': 200, 'HTTPHeaders': {'x-amzn-requestid': '4d294bc0-f400-43a2-acb6-9d92e7ad2663', 'content-type': 'application/x-amz-json-1.1', 'content-length': '2221', 'date': 'Tue, 23 Oct 2018 17:35:36 GMT'}, 'RetryAttempts': 0}}\n",
      "\n",
      "\n",
      "{'HIT': {'HITId': '3TZ0XG8CBUTNXB38281VQTGTS2089M', 'HITTypeId': '399N3OLPKFFY060NXFW9KIPX131HUY', 'HITGroupId': '3SIEQXXS6FIUB9V4QDXE6VCZAQ2Q4K', 'CreationTime': datetime.datetime(2018, 10, 23, 13, 35, 36, tzinfo=tzlocal()), 'Title': 'HIT Title', 'Description': 'HIT description', 'Question': '<QuestionForm xmlns=\"http://mechanicalturk.amazonaws.com/AWSMechanicalTurkDataSchemas/2005-10-01/QuestionForm.xsd\">\\n    <Overview>\\n        <FormattedContent><![CDATA[\\n            <h1><strong>HIT Title</strong></h1>\\n            <h2>Description</h2>\\n            <h4>HIT description</h4>\\n            <h2>Instructions: </h2>\\n            <h4>Please follow the link below to complete the task. At the end of the task, you will be given a completion code. Paste the code into the text box below.</h4>\\n            <h1><strong><a href=\"http://localhost:8000?origin=sandbox\">Link to the task</a></strong></h1>\\n        ]]>\\n        </FormattedContent>\\n    </Overview>\\n    <Question>\\n        <QuestionIdentifier>key</QuestionIdentifier>\\n        <DisplayName>Completion Code</DisplayName>\\n        <IsRequired>true</IsRequired>\\n        <QuestionContent>\\n            <Text>Please enter your completion code here: </Text>\\n        </QuestionContent>\\n        <AnswerSpecification>\\n            <FreeTextAnswer>\\n                <Constraints>\\n                    <Length minLength=\"3\" maxLength=\"100\"/>\\n                </Constraints>\\n                <NumberOfLinesSuggestion>1</NumberOfLinesSuggestion>\\n            </FreeTextAnswer>\\n        </AnswerSpecification>\\n    </Question>\\n</QuestionForm>\\n', 'Keywords': 'these, are, your, HIT, tags', 'HITStatus': 'Assignable', 'MaxAssignments': 100, 'Reward': '0.00', 'AutoApprovalDelayInSeconds': 604800, 'Expiration': datetime.datetime(2018, 10, 24, 13, 35, 36, tzinfo=tzlocal()), 'AssignmentDurationInSeconds': 1200, 'QualificationRequirements': [{'QualificationTypeId': '00000000000000000071', 'Comparator': 'EqualTo', 'LocaleValues': [{'Country': 'US'}], 'RequiredToPreview': False, 'ActionsGuarded': 'Accept'}, {'QualificationTypeId': '000000000000000000L0', 'Comparator': 'GreaterThanOrEqualTo', 'IntegerValues': [95], 'RequiredToPreview': False, 'ActionsGuarded': 'Accept'}], 'HITReviewStatus': 'NotReviewed', 'NumberOfAssignmentsPending': 0, 'NumberOfAssignmentsAvailable': 100, 'NumberOfAssignmentsCompleted': 0}, 'ResponseMetadata': {'RequestId': '3b2e06b4-c979-43c8-b217-7dcee3742071', 'HTTPStatusCode': 200, 'HTTPHeaders': {'x-amzn-requestid': '3b2e06b4-c979-43c8-b217-7dcee3742071', 'content-type': 'application/x-amz-json-1.1', 'content-length': '2221', 'date': 'Tue, 23 Oct 2018 17:35:36 GMT'}, 'RetryAttempts': 0}}\n",
      "\n",
      "\n",
      "{'HIT': {'HITId': '3MA5N0ATTCKI48IH488QUIXVL3FKW7', 'HITTypeId': '399N3OLPKFFY060NXFW9KIPX131HUY', 'HITGroupId': '3SIEQXXS6FIUB9V4QDXE6VCZAQ2Q4K', 'CreationTime': datetime.datetime(2018, 10, 23, 13, 35, 36, tzinfo=tzlocal()), 'Title': 'HIT Title', 'Description': 'HIT description', 'Question': '<QuestionForm xmlns=\"http://mechanicalturk.amazonaws.com/AWSMechanicalTurkDataSchemas/2005-10-01/QuestionForm.xsd\">\\n    <Overview>\\n        <FormattedContent><![CDATA[\\n            <h1><strong>HIT Title</strong></h1>\\n            <h2>Description</h2>\\n            <h4>HIT description</h4>\\n            <h2>Instructions: </h2>\\n            <h4>Please follow the link below to complete the task. At the end of the task, you will be given a completion code. Paste the code into the text box below.</h4>\\n            <h1><strong><a href=\"http://localhost:8000?origin=sandbox\">Link to the task</a></strong></h1>\\n        ]]>\\n        </FormattedContent>\\n    </Overview>\\n    <Question>\\n        <QuestionIdentifier>key</QuestionIdentifier>\\n        <DisplayName>Completion Code</DisplayName>\\n        <IsRequired>true</IsRequired>\\n        <QuestionContent>\\n            <Text>Please enter your completion code here: </Text>\\n        </QuestionContent>\\n        <AnswerSpecification>\\n            <FreeTextAnswer>\\n                <Constraints>\\n                    <Length minLength=\"3\" maxLength=\"100\"/>\\n                </Constraints>\\n                <NumberOfLinesSuggestion>1</NumberOfLinesSuggestion>\\n            </FreeTextAnswer>\\n        </AnswerSpecification>\\n    </Question>\\n</QuestionForm>\\n', 'Keywords': 'these, are, your, HIT, tags', 'HITStatus': 'Assignable', 'MaxAssignments': 100, 'Reward': '0.00', 'AutoApprovalDelayInSeconds': 604800, 'Expiration': datetime.datetime(2018, 10, 24, 13, 35, 36, tzinfo=tzlocal()), 'AssignmentDurationInSeconds': 1200, 'QualificationRequirements': [{'QualificationTypeId': '00000000000000000071', 'Comparator': 'EqualTo', 'LocaleValues': [{'Country': 'US'}], 'RequiredToPreview': False, 'ActionsGuarded': 'Accept'}, {'QualificationTypeId': '000000000000000000L0', 'Comparator': 'GreaterThanOrEqualTo', 'IntegerValues': [95], 'RequiredToPreview': False, 'ActionsGuarded': 'Accept'}], 'HITReviewStatus': 'NotReviewed', 'NumberOfAssignmentsPending': 0, 'NumberOfAssignmentsAvailable': 100, 'NumberOfAssignmentsCompleted': 0}, 'ResponseMetadata': {'RequestId': 'c1b263b4-faea-40e4-82c4-56f44b68406c', 'HTTPStatusCode': 200, 'HTTPHeaders': {'x-amzn-requestid': 'c1b263b4-faea-40e4-82c4-56f44b68406c', 'content-type': 'application/x-amz-json-1.1', 'content-length': '2221', 'date': 'Tue, 23 Oct 2018 17:35:36 GMT'}, 'RetryAttempts': 0}}\n",
      "\n",
      "\n"
     ]
    },
    {
     "name": "stdout",
     "output_type": "stream",
     "text": [
      "{'HIT': {'HITId': '3TD33TP5DLBK4SBKXQZ5DQHE6Q3AB2', 'HITTypeId': '399N3OLPKFFY060NXFW9KIPX131HUY', 'HITGroupId': '3SIEQXXS6FIUB9V4QDXE6VCZAQ2Q4K', 'CreationTime': datetime.datetime(2018, 10, 23, 13, 35, 36, tzinfo=tzlocal()), 'Title': 'HIT Title', 'Description': 'HIT description', 'Question': '<QuestionForm xmlns=\"http://mechanicalturk.amazonaws.com/AWSMechanicalTurkDataSchemas/2005-10-01/QuestionForm.xsd\">\\n    <Overview>\\n        <FormattedContent><![CDATA[\\n            <h1><strong>HIT Title</strong></h1>\\n            <h2>Description</h2>\\n            <h4>HIT description</h4>\\n            <h2>Instructions: </h2>\\n            <h4>Please follow the link below to complete the task. At the end of the task, you will be given a completion code. Paste the code into the text box below.</h4>\\n            <h1><strong><a href=\"http://localhost:8000?origin=sandbox\">Link to the task</a></strong></h1>\\n        ]]>\\n        </FormattedContent>\\n    </Overview>\\n    <Question>\\n        <QuestionIdentifier>key</QuestionIdentifier>\\n        <DisplayName>Completion Code</DisplayName>\\n        <IsRequired>true</IsRequired>\\n        <QuestionContent>\\n            <Text>Please enter your completion code here: </Text>\\n        </QuestionContent>\\n        <AnswerSpecification>\\n            <FreeTextAnswer>\\n                <Constraints>\\n                    <Length minLength=\"3\" maxLength=\"100\"/>\\n                </Constraints>\\n                <NumberOfLinesSuggestion>1</NumberOfLinesSuggestion>\\n            </FreeTextAnswer>\\n        </AnswerSpecification>\\n    </Question>\\n</QuestionForm>\\n', 'Keywords': 'these, are, your, HIT, tags', 'HITStatus': 'Assignable', 'MaxAssignments': 100, 'Reward': '0.00', 'AutoApprovalDelayInSeconds': 604800, 'Expiration': datetime.datetime(2018, 10, 24, 13, 35, 36, tzinfo=tzlocal()), 'AssignmentDurationInSeconds': 1200, 'QualificationRequirements': [{'QualificationTypeId': '00000000000000000071', 'Comparator': 'EqualTo', 'LocaleValues': [{'Country': 'US'}], 'RequiredToPreview': False, 'ActionsGuarded': 'Accept'}, {'QualificationTypeId': '000000000000000000L0', 'Comparator': 'GreaterThanOrEqualTo', 'IntegerValues': [95], 'RequiredToPreview': False, 'ActionsGuarded': 'Accept'}], 'HITReviewStatus': 'NotReviewed', 'NumberOfAssignmentsPending': 0, 'NumberOfAssignmentsAvailable': 100, 'NumberOfAssignmentsCompleted': 0}, 'ResponseMetadata': {'RequestId': 'c35a9796-58a0-43b1-b1d2-fa18febc8ada', 'HTTPStatusCode': 200, 'HTTPHeaders': {'x-amzn-requestid': 'c35a9796-58a0-43b1-b1d2-fa18febc8ada', 'content-type': 'application/x-amz-json-1.1', 'content-length': '2221', 'date': 'Tue, 23 Oct 2018 17:35:36 GMT'}, 'RetryAttempts': 0}}\n",
      "\n",
      "\n"
     ]
    }
   ],
   "source": [
    "# Creates HITs according to the specification in your config file \n",
    "if ALLOW_HIT_CREATION: \n",
    "    if not (hit_config.get('variants', False) or hit_config.get('numTasks', False)): \n",
    "        raise RuntimeError(\"You must specify either hitCreation.numTasks or hitCreation.variants in your config.json file\")\n",
    "    if hit_config.get('numTasks', False): \n",
    "        print(\"creating \" + str(hit_config['numTasks']) + \" tasks\")\n",
    "        for i in range(hit_config['numTasks']):\n",
    "            create_hit(hit_config)\n",
    "    else: \n",
    "        print(\"creating \" + str(len(config['variants'])) + \" variants\")\n",
    "        for var in hit_config['variants']: \n",
    "            task = copy.deepcopy(config)\n",
    "            task.update(var)\n",
    "            create_hit(task)"
   ]
  },
  {
   "cell_type": "markdown",
   "metadata": {},
   "source": [
    "# HIT monitoring helpers"
   ]
  },
  {
   "cell_type": "markdown",
   "metadata": {},
   "source": [
    "Helper functions that will be useful for monitoring the status of your HIT. See next section for how to use them."
   ]
  },
  {
   "cell_type": "code",
   "execution_count": 78,
   "metadata": {},
   "outputs": [],
   "source": [
    "# Contacts MTurk API to get all assignments for a HIT\n",
    "# Returns them in a list. \n",
    "def get_all_assignments(hitid): \n",
    "    assignments = []\n",
    "    should_continue = True\n",
    "    next_token = False\n",
    "    while (should_continue): \n",
    "        args = {\n",
    "            'HITId': hitid, \n",
    "            'MaxResults': 100\n",
    "        }\n",
    "        if (next_token): \n",
    "            args['NextToken'] = next_token\n",
    "        r = cl.list_assignments_for_hit(**args)\n",
    "        next_token = r.get('NextToken', False)\n",
    "        assignments.extend(r[\"Assignments\"])\n",
    "        should_continue = len(r[\"Assignments\"]) > 0\n",
    "    return assignments\n",
    "\n",
    "# Summarizes all hits in `hits` in a human-readable way. \n",
    "# Prints out the HIT Title, id, if it is expired, and how many assignments it has\n",
    "# completed, pending, and left for work. \n",
    "def summarize_hits(hits): \n",
    "    print(len(hits))\n",
    "    ret = \"\"\n",
    "    for hit in hits: \n",
    "        expiration = hit['Expiration'].replace(tzinfo=None)\n",
    "        is_expired = expiration < datetime.datetime.now()\n",
    "        description = (\"Title: {title}\\n\" \n",
    "        \"ID: {hid}\\n\"\n",
    "        \"\\tAssignments left: {left}\\n\"\n",
    "        \"\\tAssignments completed: {complete}\\n\"\n",
    "        \"\\tAssignments pending: {pending}\\n\"\n",
    "        \"\\tExpired: {exp}\\n\\n\").format(\n",
    "            title=hit['Title'], \n",
    "            hid=hit['HITId'], \n",
    "            left=hit['NumberOfAssignmentsAvailable'], \n",
    "            complete=hit['NumberOfAssignmentsCompleted'], \n",
    "            pending=hit['NumberOfAssignmentsPending'],\n",
    "            exp=str(is_expired)\n",
    "        )\n",
    "        ret += description\n",
    "    print(ret)\n",
    "    \n",
    "# Prints a human-readable summary of all pending/submitted/approved assignments for all hits in `hits`\n",
    "def summarize_assignments(hits):\n",
    "    ret = \"\"\n",
    "    for hit in hits: \n",
    "        hid = hit['HITId']\n",
    "        title =  hit['Title']\n",
    "        name = \"HIT %s: %s\" % (hid, title)\n",
    "        ret += name + \"\\n\"\n",
    "        assignments = get_all_assignments(hid)\n",
    "        for a in assignments: \n",
    "            desc = \"\\tAssignment {aid}\\n\\t\\tStatus: {status}\\n\".format(aid=a['AssignmentId'], status=a['AssignmentStatus'])\n",
    "            ret += desc\n",
    "    print(ret)\n",
    "    \n",
    "# Refreshes data about the requested hits\n",
    "def refresh_hits(): \n",
    "    global hits \n",
    "    global MAX_RESULTS\n",
    "    hits = cl.list_hits(MaxResults=MAX_RESULTS)['HITs']"
   ]
  },
  {
   "cell_type": "markdown",
   "metadata": {},
   "source": [
    "# HIT monitoring"
   ]
  },
  {
   "cell_type": "code",
   "execution_count": 82,
   "metadata": {},
   "outputs": [],
   "source": [
    "MAX_RESULTS = 5 # set equal to the number of outstanding hits you have \n",
    "\n",
    "# API call to grab HIT data from MTurk \n",
    "hits = cl.list_hits(MaxResults=MAX_RESULTS)['HITs']"
   ]
  },
  {
   "cell_type": "code",
   "execution_count": 83,
   "metadata": {},
   "outputs": [
    {
     "name": "stdout",
     "output_type": "stream",
     "text": [
      "5\n",
      "Title: HIT Title\n",
      "ID: 341YLJU21I85MXUMQLY7TV2TPSVI2C\n",
      "\tAssignments left: 100\n",
      "\tAssignments completed: 0\n",
      "\tAssignments pending: 0\n",
      "\tExpired: False\n",
      "\n",
      "Title: HIT Title\n",
      "ID: 3MA5N0ATTCKI48IH488QUIXVL3FKW7\n",
      "\tAssignments left: 99\n",
      "\tAssignments completed: 0\n",
      "\tAssignments pending: 1\n",
      "\tExpired: False\n",
      "\n",
      "Title: HIT Title\n",
      "ID: 3ZTE0JGGCE1SG1XRL90IP571DS7COA\n",
      "\tAssignments left: 100\n",
      "\tAssignments completed: 0\n",
      "\tAssignments pending: 0\n",
      "\tExpired: False\n",
      "\n",
      "Title: HIT Title\n",
      "ID: 3TZ0XG8CBUTNXB38281VQTGTS2089M\n",
      "\tAssignments left: 99\n",
      "\tAssignments completed: 0\n",
      "\tAssignments pending: 0\n",
      "\tExpired: False\n",
      "\n",
      "Title: HIT Title\n",
      "ID: 3TD33TP5DLBK4SBKXQZ5DQHE6Q3AB2\n",
      "\tAssignments left: 100\n",
      "\tAssignments completed: 0\n",
      "\tAssignments pending: 0\n",
      "\tExpired: False\n",
      "\n",
      "\n"
     ]
    }
   ],
   "source": [
    "# Summarizes all outstanding HITs\n",
    "refresh_hits()\n",
    "summarize_hits(hits)"
   ]
  },
  {
   "cell_type": "code",
   "execution_count": 84,
   "metadata": {},
   "outputs": [
    {
     "name": "stdout",
     "output_type": "stream",
     "text": [
      "HIT 341YLJU21I85MXUMQLY7TV2TPSVI2C: HIT Title\n",
      "HIT 3MA5N0ATTCKI48IH488QUIXVL3FKW7: HIT Title\n",
      "HIT 3ZTE0JGGCE1SG1XRL90IP571DS7COA: HIT Title\n",
      "HIT 3TZ0XG8CBUTNXB38281VQTGTS2089M: HIT Title\n",
      "\tAssignment 3F0BG9B9MQX1LI4RQH770U96Y8U7YH\n",
      "\t\tStatus: Submitted\n",
      "HIT 3TD33TP5DLBK4SBKXQZ5DQHE6Q3AB2: HIT Title\n",
      "\n"
     ]
    }
   ],
   "source": [
    "# Summarizes assignments for all oustanding HITs \n",
    "refresh_hits()\n",
    "summarize_assignments(hits)\n",
    "pass"
   ]
  },
  {
   "cell_type": "markdown",
   "metadata": {},
   "source": [
    "# Approve HITs"
   ]
  },
  {
   "cell_type": "markdown",
   "metadata": {},
   "source": [
    "Approves all outstanding assignments for the HITs displayed above. "
   ]
  },
  {
   "cell_type": "code",
   "execution_count": 85,
   "metadata": {},
   "outputs": [],
   "source": [
    "def approve_all(hits): \n",
    "    num_approved = 0\n",
    "    for hit in hits: \n",
    "        # make sure you keep getting assignments \n",
    "        assignments = get_all_assignments(hit[\"HITId\"])\n",
    "        #print(assignments)\n",
    "        for a in assignments: \n",
    "            if a['AssignmentStatus'] != 'Approved':\n",
    "                print(\"Approving assignment\")\n",
    "                num_approved += 1\n",
    "                cl.approve_assignment(AssignmentId=a['AssignmentId'])\n",
    "    print(\"Approved %d assignments\" % num_approved)"
   ]
  },
  {
   "cell_type": "code",
   "execution_count": 86,
   "metadata": {
    "scrolled": true
   },
   "outputs": [
    {
     "name": "stdout",
     "output_type": "stream",
     "text": [
      "Approving assignment\n",
      "Approved 1 assignments\n"
     ]
    }
   ],
   "source": [
    "refresh_hits()\n",
    "approve_all(hits)"
   ]
  },
  {
   "cell_type": "markdown",
   "metadata": {},
   "source": [
    "# Update expiration or num tasks"
   ]
  },
  {
   "cell_type": "code",
   "execution_count": 50,
   "metadata": {},
   "outputs": [],
   "source": [
    "# changes the expiration date on a HIT to days_from_now days in the future\n",
    "def update_expiration(hitid, days_from_now): \n",
    "    if ALLOW_UPDATE_EXPIRATION: \n",
    "        days = days_from_now*datetime.timedelta(days=1)\n",
    "        expire_time = datetime.datetime.now() + days\n",
    "\n",
    "        response = cl.update_expiration_for_hit(HITId=hitid, ExpireAt=expire_time)\n",
    "        print(response)\n",
    "        return response\n",
    "    else: \n",
    "        raise RuntimeError(\"This action is not currently enabled; set `ALLOW_UPDATE_EXPIRATION` to true to proceed with this action\")\n",
    "    \n",
    "def expire_hit(hit): \n",
    "    return update_expiration(hit, -10)"
   ]
  },
  {
   "cell_type": "code",
   "execution_count": 51,
   "metadata": {},
   "outputs": [],
   "source": [
    "def add_assignments(hitid, num_assignments): \n",
    "    if ALLOW_ASSIGNMENT_ADDITION: \n",
    "        response = cl.create_additional_assignments_for_hit(\n",
    "            HITId=hitid,\n",
    "            NumberOfAdditionalAssignments=num_assignments\n",
    "        )\n",
    "        print(response)\n",
    "        return response\n",
    "    else: \n",
    "        raise RuntimeError(\"This action is not currently enabled; set `ALLOW_ASSIGNMENT_ADDITION` to true to proceed with this action\")"
   ]
  },
  {
   "cell_type": "code",
   "execution_count": 52,
   "metadata": {},
   "outputs": [
    {
     "ename": "RuntimeError",
     "evalue": "This action is not currently enabled; set `ALLOW_UPDATE_EXPIRATION` to true to proceed with this action",
     "output_type": "error",
     "traceback": [
      "\u001b[0;31m---------------------------------------------------------------------------\u001b[0m",
      "\u001b[0;31mRuntimeError\u001b[0m                              Traceback (most recent call last)",
      "\u001b[0;32m<ipython-input-52-07222e6af393>\u001b[0m in \u001b[0;36m<module>\u001b[0;34m()\u001b[0m\n\u001b[1;32m      1\u001b[0m \u001b[0;31m# Use this cell to expire a HIT\u001b[0m\u001b[0;34m\u001b[0m\u001b[0;34m\u001b[0m\u001b[0m\n\u001b[1;32m      2\u001b[0m \u001b[0mHIT_id_to_expire\u001b[0m \u001b[0;34m=\u001b[0m \u001b[0;34m\"FILL THIS IN\"\u001b[0m\u001b[0;34m\u001b[0m\u001b[0m\n\u001b[0;32m----> 3\u001b[0;31m \u001b[0mexpire_hit\u001b[0m\u001b[0;34m(\u001b[0m\u001b[0mHIT_id_to_expire\u001b[0m\u001b[0;34m)\u001b[0m\u001b[0;34m\u001b[0m\u001b[0m\n\u001b[0m",
      "\u001b[0;32m<ipython-input-50-1a7523458a0b>\u001b[0m in \u001b[0;36mexpire_hit\u001b[0;34m(hit)\u001b[0m\n\u001b[1;32m     12\u001b[0m \u001b[0;34m\u001b[0m\u001b[0m\n\u001b[1;32m     13\u001b[0m \u001b[0;32mdef\u001b[0m \u001b[0mexpire_hit\u001b[0m\u001b[0;34m(\u001b[0m\u001b[0mhit\u001b[0m\u001b[0;34m)\u001b[0m\u001b[0;34m:\u001b[0m\u001b[0;34m\u001b[0m\u001b[0m\n\u001b[0;32m---> 14\u001b[0;31m     \u001b[0;32mreturn\u001b[0m \u001b[0mupdate_expiration\u001b[0m\u001b[0;34m(\u001b[0m\u001b[0mhit\u001b[0m\u001b[0;34m,\u001b[0m \u001b[0;34m-\u001b[0m\u001b[0;36m10\u001b[0m\u001b[0;34m)\u001b[0m\u001b[0;34m\u001b[0m\u001b[0m\n\u001b[0m",
      "\u001b[0;32m<ipython-input-50-1a7523458a0b>\u001b[0m in \u001b[0;36mupdate_expiration\u001b[0;34m(hitid, days_from_now)\u001b[0m\n\u001b[1;32m      9\u001b[0m         \u001b[0;32mreturn\u001b[0m \u001b[0mresponse\u001b[0m\u001b[0;34m\u001b[0m\u001b[0m\n\u001b[1;32m     10\u001b[0m     \u001b[0;32melse\u001b[0m\u001b[0;34m:\u001b[0m\u001b[0;34m\u001b[0m\u001b[0m\n\u001b[0;32m---> 11\u001b[0;31m         \u001b[0;32mraise\u001b[0m \u001b[0mRuntimeError\u001b[0m\u001b[0;34m(\u001b[0m\u001b[0;34m\"This action is not currently enabled; set `ALLOW_UPDATE_EXPIRATION` to true to proceed with this action\"\u001b[0m\u001b[0;34m)\u001b[0m\u001b[0;34m\u001b[0m\u001b[0m\n\u001b[0m\u001b[1;32m     12\u001b[0m \u001b[0;34m\u001b[0m\u001b[0m\n\u001b[1;32m     13\u001b[0m \u001b[0;32mdef\u001b[0m \u001b[0mexpire_hit\u001b[0m\u001b[0;34m(\u001b[0m\u001b[0mhit\u001b[0m\u001b[0;34m)\u001b[0m\u001b[0;34m:\u001b[0m\u001b[0;34m\u001b[0m\u001b[0m\n",
      "\u001b[0;31mRuntimeError\u001b[0m: This action is not currently enabled; set `ALLOW_UPDATE_EXPIRATION` to true to proceed with this action"
     ]
    }
   ],
   "source": [
    "# Use this cell to expire a HIT \n",
    "HIT_id_to_expire = \"FILL THIS IN\" \n",
    "expire_hit(HIT_id_to_expire)"
   ]
  },
  {
   "cell_type": "code",
   "execution_count": 72,
   "metadata": {},
   "outputs": [
    {
     "name": "stdout",
     "output_type": "stream",
     "text": [
      "{'ResponseMetadata': {'RequestId': '50bab333-2133-4ede-945a-7468182d7e2c', 'HTTPStatusCode': 200, 'HTTPHeaders': {'x-amzn-requestid': '50bab333-2133-4ede-945a-7468182d7e2c', 'content-type': 'application/x-amz-json-1.1', 'content-length': '2', 'date': 'Tue, 23 Oct 2018 17:35:14 GMT'}, 'RetryAttempts': 0}}\n",
      "{'ResponseMetadata': {'RequestId': '746ed27e-ba8b-4a91-be8b-4fecf83a3959', 'HTTPStatusCode': 200, 'HTTPHeaders': {'x-amzn-requestid': '746ed27e-ba8b-4a91-be8b-4fecf83a3959', 'content-type': 'application/x-amz-json-1.1', 'content-length': '2', 'date': 'Tue, 23 Oct 2018 17:35:14 GMT'}, 'RetryAttempts': 0}}\n",
      "{'ResponseMetadata': {'RequestId': '238e9860-df6f-4c5f-9f7f-bc56bc1fba6a', 'HTTPStatusCode': 200, 'HTTPHeaders': {'x-amzn-requestid': '238e9860-df6f-4c5f-9f7f-bc56bc1fba6a', 'content-type': 'application/x-amz-json-1.1', 'content-length': '2', 'date': 'Tue, 23 Oct 2018 17:35:14 GMT'}, 'RetryAttempts': 0}}\n",
      "{'ResponseMetadata': {'RequestId': '84686177-6dad-4761-a47d-42fa972c17df', 'HTTPStatusCode': 200, 'HTTPHeaders': {'x-amzn-requestid': '84686177-6dad-4761-a47d-42fa972c17df', 'content-type': 'application/x-amz-json-1.1', 'content-length': '2', 'date': 'Tue, 23 Oct 2018 17:35:14 GMT'}, 'RetryAttempts': 0}}\n",
      "{'ResponseMetadata': {'RequestId': '02d3c415-5a28-4cdb-ac7e-c3ee07602999', 'HTTPStatusCode': 200, 'HTTPHeaders': {'x-amzn-requestid': '02d3c415-5a28-4cdb-ac7e-c3ee07602999', 'content-type': 'application/x-amz-json-1.1', 'content-length': '2', 'date': 'Tue, 23 Oct 2018 17:35:14 GMT'}, 'RetryAttempts': 0}}\n",
      "{'ResponseMetadata': {'RequestId': '164e4b8e-6b86-42d2-9e9e-3b57b5d7383a', 'HTTPStatusCode': 200, 'HTTPHeaders': {'x-amzn-requestid': '164e4b8e-6b86-42d2-9e9e-3b57b5d7383a', 'content-type': 'application/x-amz-json-1.1', 'content-length': '2', 'date': 'Tue, 23 Oct 2018 17:35:16 GMT'}, 'RetryAttempts': 1}}\n",
      "{'ResponseMetadata': {'RequestId': '69b9f5f8-a649-4c25-ba85-3e7e8982ecb3', 'HTTPStatusCode': 200, 'HTTPHeaders': {'x-amzn-requestid': '69b9f5f8-a649-4c25-ba85-3e7e8982ecb3', 'content-type': 'application/x-amz-json-1.1', 'content-length': '2', 'date': 'Tue, 23 Oct 2018 17:35:16 GMT'}, 'RetryAttempts': 0}}\n",
      "{'ResponseMetadata': {'RequestId': 'a332a5ac-4177-4ec0-89ff-d544d978da57', 'HTTPStatusCode': 200, 'HTTPHeaders': {'x-amzn-requestid': 'a332a5ac-4177-4ec0-89ff-d544d978da57', 'content-type': 'application/x-amz-json-1.1', 'content-length': '2', 'date': 'Tue, 23 Oct 2018 17:35:16 GMT'}, 'RetryAttempts': 0}}\n",
      "{'ResponseMetadata': {'RequestId': '5d8a64e0-42f6-4e87-b80e-823d99bcfbe4', 'HTTPStatusCode': 200, 'HTTPHeaders': {'x-amzn-requestid': '5d8a64e0-42f6-4e87-b80e-823d99bcfbe4', 'content-type': 'application/x-amz-json-1.1', 'content-length': '2', 'date': 'Tue, 23 Oct 2018 17:35:18 GMT'}, 'RetryAttempts': 2}}\n",
      "{'ResponseMetadata': {'RequestId': '3e0abca2-ba03-4d4a-8783-601ef725cbaa', 'HTTPStatusCode': 200, 'HTTPHeaders': {'x-amzn-requestid': '3e0abca2-ba03-4d4a-8783-601ef725cbaa', 'content-type': 'application/x-amz-json-1.1', 'content-length': '2', 'date': 'Tue, 23 Oct 2018 17:35:18 GMT'}, 'RetryAttempts': 0}}\n",
      "{'ResponseMetadata': {'RequestId': 'c07e2b7b-933e-420d-8b3d-8b4a4baaef29', 'HTTPStatusCode': 200, 'HTTPHeaders': {'x-amzn-requestid': 'c07e2b7b-933e-420d-8b3d-8b4a4baaef29', 'content-type': 'application/x-amz-json-1.1', 'content-length': '2', 'date': 'Tue, 23 Oct 2018 17:35:18 GMT'}, 'RetryAttempts': 0}}\n",
      "{'ResponseMetadata': {'RequestId': '8ab71587-8a94-47e1-a042-50e80de5586d', 'HTTPStatusCode': 200, 'HTTPHeaders': {'x-amzn-requestid': '8ab71587-8a94-47e1-a042-50e80de5586d', 'content-type': 'application/x-amz-json-1.1', 'content-length': '2', 'date': 'Tue, 23 Oct 2018 17:35:19 GMT'}, 'RetryAttempts': 1}}\n",
      "{'ResponseMetadata': {'RequestId': '1342e871-0f11-455d-b2e1-3bc8a29bb675', 'HTTPStatusCode': 200, 'HTTPHeaders': {'x-amzn-requestid': '1342e871-0f11-455d-b2e1-3bc8a29bb675', 'content-type': 'application/x-amz-json-1.1', 'content-length': '2', 'date': 'Tue, 23 Oct 2018 17:35:19 GMT'}, 'RetryAttempts': 0}}\n",
      "{'ResponseMetadata': {'RequestId': '3a7c6942-0ea0-418b-9ab3-7b85958d8a9a', 'HTTPStatusCode': 200, 'HTTPHeaders': {'x-amzn-requestid': '3a7c6942-0ea0-418b-9ab3-7b85958d8a9a', 'content-type': 'application/x-amz-json-1.1', 'content-length': '2', 'date': 'Tue, 23 Oct 2018 17:35:19 GMT'}, 'RetryAttempts': 0}}\n",
      "{'ResponseMetadata': {'RequestId': 'b2f8c037-5c57-441a-8f22-9d97d4b63c39', 'HTTPStatusCode': 200, 'HTTPHeaders': {'x-amzn-requestid': 'b2f8c037-5c57-441a-8f22-9d97d4b63c39', 'content-type': 'application/x-amz-json-1.1', 'content-length': '2', 'date': 'Tue, 23 Oct 2018 17:35:19 GMT'}, 'RetryAttempts': 0}}\n",
      "{'ResponseMetadata': {'RequestId': '3b04c57c-edfa-43a7-85a8-de50618ddb51', 'HTTPStatusCode': 200, 'HTTPHeaders': {'x-amzn-requestid': '3b04c57c-edfa-43a7-85a8-de50618ddb51', 'content-type': 'application/x-amz-json-1.1', 'content-length': '2', 'date': 'Tue, 23 Oct 2018 17:35:20 GMT'}, 'RetryAttempts': 1}}\n",
      "{'ResponseMetadata': {'RequestId': '43a7de20-6867-4b99-903c-a4bd3aeb81b0', 'HTTPStatusCode': 200, 'HTTPHeaders': {'x-amzn-requestid': '43a7de20-6867-4b99-903c-a4bd3aeb81b0', 'content-type': 'application/x-amz-json-1.1', 'content-length': '2', 'date': 'Tue, 23 Oct 2018 17:35:20 GMT'}, 'RetryAttempts': 0}}\n",
      "{'ResponseMetadata': {'RequestId': '5857b615-7343-4a42-a178-e573c30d74f3', 'HTTPStatusCode': 200, 'HTTPHeaders': {'x-amzn-requestid': '5857b615-7343-4a42-a178-e573c30d74f3', 'content-type': 'application/x-amz-json-1.1', 'content-length': '2', 'date': 'Tue, 23 Oct 2018 17:35:21 GMT'}, 'RetryAttempts': 1}}\n",
      "{'ResponseMetadata': {'RequestId': '96db8946-c65d-4faf-bd0b-231ecc992881', 'HTTPStatusCode': 200, 'HTTPHeaders': {'x-amzn-requestid': '96db8946-c65d-4faf-bd0b-231ecc992881', 'content-type': 'application/x-amz-json-1.1', 'content-length': '2', 'date': 'Tue, 23 Oct 2018 17:35:21 GMT'}, 'RetryAttempts': 0}}\n",
      "{'ResponseMetadata': {'RequestId': '08f050e8-6f5d-4b9f-a700-e0e60dd3f208', 'HTTPStatusCode': 200, 'HTTPHeaders': {'x-amzn-requestid': '08f050e8-6f5d-4b9f-a700-e0e60dd3f208', 'content-type': 'application/x-amz-json-1.1', 'content-length': '2', 'date': 'Tue, 23 Oct 2018 17:35:24 GMT'}, 'RetryAttempts': 2}}\n"
     ]
    }
   ],
   "source": [
    "for hit in hits: \n",
    "    expire_hit(hit[\"HITId\"])"
   ]
  },
  {
   "cell_type": "code",
   "execution_count": 22,
   "metadata": {},
   "outputs": [
    {
     "ename": "NameError",
     "evalue": "name 'add_assignments' is not defined",
     "output_type": "error",
     "traceback": [
      "\u001b[0;31m---------------------------------------------------------------------------\u001b[0m",
      "\u001b[0;31mNameError\u001b[0m                                 Traceback (most recent call last)",
      "\u001b[0;32m<ipython-input-22-c94cd3c6aca6>\u001b[0m in \u001b[0;36m<module>\u001b[0;34m()\u001b[0m\n\u001b[1;32m      2\u001b[0m \u001b[0mHIT_id_to_add_assignments\u001b[0m \u001b[0;34m=\u001b[0m \u001b[0;34m\"FILL THIS IN\"\u001b[0m\u001b[0;34m\u001b[0m\u001b[0m\n\u001b[1;32m      3\u001b[0m \u001b[0mnum_assignments_to_add\u001b[0m \u001b[0;34m=\u001b[0m \u001b[0;36m0\u001b[0m\u001b[0;34m\u001b[0m\u001b[0m\n\u001b[0;32m----> 4\u001b[0;31m \u001b[0madd_assignments\u001b[0m\u001b[0;34m(\u001b[0m\u001b[0mHIT_id_to_add_assignments\u001b[0m\u001b[0;34m,\u001b[0m \u001b[0mnum_assignments_to_add\u001b[0m\u001b[0;34m)\u001b[0m\u001b[0;34m\u001b[0m\u001b[0m\n\u001b[0m",
      "\u001b[0;31mNameError\u001b[0m: name 'add_assignments' is not defined"
     ]
    }
   ],
   "source": [
    "# Use this cell to add assignments to a HIT \n",
    "HIT_id_to_add_assignments = \"FILL THIS IN\"\n",
    "num_assignments_to_add = 0\n",
    "add_assignments(HIT_id_to_add_assignments, num_assignments_to_add)"
   ]
  },
  {
   "cell_type": "markdown",
   "metadata": {},
   "source": [
    "# Add custom qualifications "
   ]
  },
  {
   "cell_type": "markdown",
   "metadata": {},
   "source": [
    "## Add a qualification to disqualify workers who have done work before\n",
    "\n",
    "- uses \"negative qualification\" method from https://github.com/cloudyr/MturkR/wiki/qualifications-as-blocks\n",
    "\n",
    "#### NOTE: quals are kept separate for the sandbox and prod. Make sure you are creating and assigning your quals in prod. "
   ]
  },
  {
   "cell_type": "markdown",
   "metadata": {},
   "source": [
    "### Structure of a new qualification"
   ]
  },
  {
   "cell_type": "code",
   "execution_count": null,
   "metadata": {},
   "outputs": [],
   "source": [
    "NEW_QUAL = {\n",
    "    'Name': 'qualName',\n",
    "    'Keywords': 'Keywords for qual',\n",
    "    'Description': 'What is this qual, and why are you assigning it?',\n",
    "    'QualificationTypeStatus': 'Active',\n",
    "    'AutoGranted': False\n",
    "}"
   ]
  },
  {
   "cell_type": "markdown",
   "metadata": {},
   "source": [
    "### Helpers for creating, viewing, and assigning qualifications"
   ]
  },
  {
   "cell_type": "code",
   "execution_count": 25,
   "metadata": {},
   "outputs": [],
   "source": [
    "# Registers a custom qualification with MTurk \n",
    "def create_qual(new_qual):\n",
    "    if ALLOW_CREATE_QUAL: \n",
    "        response = cl.create_qualification_type(**new_qual)\n",
    "        print(response)\n",
    "        Id = response['QualificationTypeId']\n",
    "        print(\"id\", Id)\n",
    "        return Id\n",
    "    else: \n",
    "        raise RuntimException(\"This action is not currently enabled; set `ALLOW_CREATE_QUAL` to true to proceed with this action\")\n",
    "        \n",
    "# Gets all the custom quals you have created and prints them\n",
    "def list_quals(): \n",
    "    response = cl.list_qualification_types(\n",
    "            Query='hasCompletedVisualGraphRecallTask',\n",
    "            MustBeRequestable=False\n",
    "    )\n",
    "    print(response)\n",
    "    \n",
    "# Assigns a qualification to a worker \n",
    "def assign_qual(qual_id, worker_ids): \n",
    "    for worker in worker_ids: \n",
    "        response = cl.associate_qualification_with_worker(\n",
    "                QualificationTypeId=qual_id, \n",
    "                WorkerId=worker,\n",
    "                IntegerValue=1,\n",
    "                SendNotification=False\n",
    "        )\n",
    "        print(response)\n",
    "        assert response\n",
    "        \n",
    "# Gets the ids of all workers who worked on a particular hit \n",
    "def get_workers_for_hit(hitid): \n",
    "    a = get_all_assignments(hitid)\n",
    "    workers = [a_['WorkerId'] for a_ in a]\n",
    "    return workers\n",
    "    \n",
    "# Confirms that every worker in worker_ids has qual with qual_id\n",
    "def confirm_quals(qual_id, worker_ids): \n",
    "    for w in worker_ids: \n",
    "        response = cl.get_qualification_score(\n",
    "                QualificationTypeId=qual_id,\n",
    "                WorkerId=w\n",
    "        )\n",
    "        response = response['Qualification']\n",
    "        assert response['Status'] == 'Granted'\n",
    "        assert response['IntegerValue'] == 1\n",
    "        \n",
    "# Assigns qual with `qual_id` to every worker who has completed an assignment for the hit with `hitid`\n",
    "def assign_qual_for_hit(hitid, qual_id): \n",
    "    workers = get_workers_for_hit(hitid)\n",
    "    print(\"got workers\")\n",
    "    assign_qual(qual_id, workers)\n",
    "    print(\"assigned qual\")\n",
    "    confirm_quals(qual_id, workers)\n",
    "    print(\"confirmed qual\")"
   ]
  },
  {
   "cell_type": "markdown",
   "metadata": {},
   "source": [
    "### Use the following cells to manipulate qualifications"
   ]
  },
  {
   "cell_type": "code",
   "execution_count": null,
   "metadata": {},
   "outputs": [],
   "source": [
    "# Use this cell to view the custom qualifications you have created\n",
    "list_quals()"
   ]
  },
  {
   "cell_type": "code",
   "execution_count": null,
   "metadata": {},
   "outputs": [],
   "source": [
    "# Use this cell to create a new qual \n",
    "qual_to_create = {}\n",
    "create_qual(qual_to_create)"
   ]
  },
  {
   "cell_type": "code",
   "execution_count": 26,
   "metadata": {},
   "outputs": [
    {
     "ename": "EndpointConnectionError",
     "evalue": "Could not connect to the endpoint URL: \"https://mturk-requester-sandbox.us-east-1.amazonaws.com/\"",
     "output_type": "error",
     "traceback": [
      "\u001b[0;31m---------------------------------------------------------------------------\u001b[0m",
      "\u001b[0;31mgaierror\u001b[0m                                  Traceback (most recent call last)",
      "\u001b[0;32m/usr/lib/python3/dist-packages/urllib3/connection.py\u001b[0m in \u001b[0;36m_new_conn\u001b[0;34m(self)\u001b[0m\n\u001b[1;32m    140\u001b[0m             conn = connection.create_connection(\n\u001b[0;32m--> 141\u001b[0;31m                 (self.host, self.port), self.timeout, **extra_kw)\n\u001b[0m\u001b[1;32m    142\u001b[0m \u001b[0;34m\u001b[0m\u001b[0m\n",
      "\u001b[0;32m/usr/lib/python3/dist-packages/urllib3/util/connection.py\u001b[0m in \u001b[0;36mcreate_connection\u001b[0;34m(address, timeout, source_address, socket_options)\u001b[0m\n\u001b[1;32m     59\u001b[0m \u001b[0;34m\u001b[0m\u001b[0m\n\u001b[0;32m---> 60\u001b[0;31m     \u001b[0;32mfor\u001b[0m \u001b[0mres\u001b[0m \u001b[0;32min\u001b[0m \u001b[0msocket\u001b[0m\u001b[0;34m.\u001b[0m\u001b[0mgetaddrinfo\u001b[0m\u001b[0;34m(\u001b[0m\u001b[0mhost\u001b[0m\u001b[0;34m,\u001b[0m \u001b[0mport\u001b[0m\u001b[0;34m,\u001b[0m \u001b[0mfamily\u001b[0m\u001b[0;34m,\u001b[0m \u001b[0msocket\u001b[0m\u001b[0;34m.\u001b[0m\u001b[0mSOCK_STREAM\u001b[0m\u001b[0;34m)\u001b[0m\u001b[0;34m:\u001b[0m\u001b[0;34m\u001b[0m\u001b[0m\n\u001b[0m\u001b[1;32m     61\u001b[0m         \u001b[0maf\u001b[0m\u001b[0;34m,\u001b[0m \u001b[0msocktype\u001b[0m\u001b[0;34m,\u001b[0m \u001b[0mproto\u001b[0m\u001b[0;34m,\u001b[0m \u001b[0mcanonname\u001b[0m\u001b[0;34m,\u001b[0m \u001b[0msa\u001b[0m \u001b[0;34m=\u001b[0m \u001b[0mres\u001b[0m\u001b[0;34m\u001b[0m\u001b[0m\n",
      "\u001b[0;32m/usr/lib/python3.6/socket.py\u001b[0m in \u001b[0;36mgetaddrinfo\u001b[0;34m(host, port, family, type, proto, flags)\u001b[0m\n\u001b[1;32m    744\u001b[0m     \u001b[0maddrlist\u001b[0m \u001b[0;34m=\u001b[0m \u001b[0;34m[\u001b[0m\u001b[0;34m]\u001b[0m\u001b[0;34m\u001b[0m\u001b[0m\n\u001b[0;32m--> 745\u001b[0;31m     \u001b[0;32mfor\u001b[0m \u001b[0mres\u001b[0m \u001b[0;32min\u001b[0m \u001b[0m_socket\u001b[0m\u001b[0;34m.\u001b[0m\u001b[0mgetaddrinfo\u001b[0m\u001b[0;34m(\u001b[0m\u001b[0mhost\u001b[0m\u001b[0;34m,\u001b[0m \u001b[0mport\u001b[0m\u001b[0;34m,\u001b[0m \u001b[0mfamily\u001b[0m\u001b[0;34m,\u001b[0m \u001b[0mtype\u001b[0m\u001b[0;34m,\u001b[0m \u001b[0mproto\u001b[0m\u001b[0;34m,\u001b[0m \u001b[0mflags\u001b[0m\u001b[0;34m)\u001b[0m\u001b[0;34m:\u001b[0m\u001b[0;34m\u001b[0m\u001b[0m\n\u001b[0m\u001b[1;32m    746\u001b[0m         \u001b[0maf\u001b[0m\u001b[0;34m,\u001b[0m \u001b[0msocktype\u001b[0m\u001b[0;34m,\u001b[0m \u001b[0mproto\u001b[0m\u001b[0;34m,\u001b[0m \u001b[0mcanonname\u001b[0m\u001b[0;34m,\u001b[0m \u001b[0msa\u001b[0m \u001b[0;34m=\u001b[0m \u001b[0mres\u001b[0m\u001b[0;34m\u001b[0m\u001b[0m\n",
      "\u001b[0;31mgaierror\u001b[0m: [Errno -2] Name or service not known",
      "\nDuring handling of the above exception, another exception occurred:\n",
      "\u001b[0;31mNewConnectionError\u001b[0m                        Traceback (most recent call last)",
      "\u001b[0;32m/usr/local/lib/python3.6/dist-packages/botocore/httpsession.py\u001b[0m in \u001b[0;36msend\u001b[0;34m(self, request)\u001b[0m\n\u001b[1;32m    241\u001b[0m                 \u001b[0mpreload_content\u001b[0m\u001b[0;34m=\u001b[0m\u001b[0;32mFalse\u001b[0m\u001b[0;34m,\u001b[0m\u001b[0;34m\u001b[0m\u001b[0m\n\u001b[0;32m--> 242\u001b[0;31m                 \u001b[0mdecode_content\u001b[0m\u001b[0;34m=\u001b[0m\u001b[0;32mFalse\u001b[0m\u001b[0;34m,\u001b[0m\u001b[0;34m\u001b[0m\u001b[0m\n\u001b[0m\u001b[1;32m    243\u001b[0m             )\n",
      "\u001b[0;32m/usr/lib/python3/dist-packages/urllib3/connectionpool.py\u001b[0m in \u001b[0;36murlopen\u001b[0;34m(self, method, url, body, headers, retries, redirect, assert_same_host, timeout, pool_timeout, release_conn, chunked, body_pos, **response_kw)\u001b[0m\n\u001b[1;32m    638\u001b[0m             retries = retries.increment(method, url, error=e, _pool=self,\n\u001b[0;32m--> 639\u001b[0;31m                                         _stacktrace=sys.exc_info()[2])\n\u001b[0m\u001b[1;32m    640\u001b[0m             \u001b[0mretries\u001b[0m\u001b[0;34m.\u001b[0m\u001b[0msleep\u001b[0m\u001b[0;34m(\u001b[0m\u001b[0;34m)\u001b[0m\u001b[0;34m\u001b[0m\u001b[0m\n",
      "\u001b[0;32m/usr/lib/python3/dist-packages/urllib3/util/retry.py\u001b[0m in \u001b[0;36mincrement\u001b[0;34m(self, method, url, response, error, _pool, _stacktrace)\u001b[0m\n\u001b[1;32m    332\u001b[0m             \u001b[0;31m# Disabled, indicate to re-raise the error.\u001b[0m\u001b[0;34m\u001b[0m\u001b[0;34m\u001b[0m\u001b[0m\n\u001b[0;32m--> 333\u001b[0;31m             \u001b[0;32mraise\u001b[0m \u001b[0msix\u001b[0m\u001b[0;34m.\u001b[0m\u001b[0mreraise\u001b[0m\u001b[0;34m(\u001b[0m\u001b[0mtype\u001b[0m\u001b[0;34m(\u001b[0m\u001b[0merror\u001b[0m\u001b[0;34m)\u001b[0m\u001b[0;34m,\u001b[0m \u001b[0merror\u001b[0m\u001b[0;34m,\u001b[0m \u001b[0m_stacktrace\u001b[0m\u001b[0;34m)\u001b[0m\u001b[0;34m\u001b[0m\u001b[0m\n\u001b[0m\u001b[1;32m    334\u001b[0m \u001b[0;34m\u001b[0m\u001b[0m\n",
      "\u001b[0;32m/usr/lib/python3/dist-packages/six.py\u001b[0m in \u001b[0;36mreraise\u001b[0;34m(tp, value, tb)\u001b[0m\n\u001b[1;32m    692\u001b[0m                 \u001b[0;32mraise\u001b[0m \u001b[0mvalue\u001b[0m\u001b[0;34m.\u001b[0m\u001b[0mwith_traceback\u001b[0m\u001b[0;34m(\u001b[0m\u001b[0mtb\u001b[0m\u001b[0;34m)\u001b[0m\u001b[0;34m\u001b[0m\u001b[0m\n\u001b[0;32m--> 693\u001b[0;31m             \u001b[0;32mraise\u001b[0m \u001b[0mvalue\u001b[0m\u001b[0;34m\u001b[0m\u001b[0m\n\u001b[0m\u001b[1;32m    694\u001b[0m         \u001b[0;32mfinally\u001b[0m\u001b[0;34m:\u001b[0m\u001b[0;34m\u001b[0m\u001b[0m\n",
      "\u001b[0;32m/usr/lib/python3/dist-packages/urllib3/connectionpool.py\u001b[0m in \u001b[0;36murlopen\u001b[0;34m(self, method, url, body, headers, retries, redirect, assert_same_host, timeout, pool_timeout, release_conn, chunked, body_pos, **response_kw)\u001b[0m\n\u001b[1;32m    600\u001b[0m                                                   \u001b[0mbody\u001b[0m\u001b[0;34m=\u001b[0m\u001b[0mbody\u001b[0m\u001b[0;34m,\u001b[0m \u001b[0mheaders\u001b[0m\u001b[0;34m=\u001b[0m\u001b[0mheaders\u001b[0m\u001b[0;34m,\u001b[0m\u001b[0;34m\u001b[0m\u001b[0m\n\u001b[0;32m--> 601\u001b[0;31m                                                   chunked=chunked)\n\u001b[0m\u001b[1;32m    602\u001b[0m \u001b[0;34m\u001b[0m\u001b[0m\n",
      "\u001b[0;32m/usr/lib/python3/dist-packages/urllib3/connectionpool.py\u001b[0m in \u001b[0;36m_make_request\u001b[0;34m(self, conn, method, url, timeout, chunked, **httplib_request_kw)\u001b[0m\n\u001b[1;32m    345\u001b[0m         \u001b[0;32mtry\u001b[0m\u001b[0;34m:\u001b[0m\u001b[0;34m\u001b[0m\u001b[0m\n\u001b[0;32m--> 346\u001b[0;31m             \u001b[0mself\u001b[0m\u001b[0;34m.\u001b[0m\u001b[0m_validate_conn\u001b[0m\u001b[0;34m(\u001b[0m\u001b[0mconn\u001b[0m\u001b[0;34m)\u001b[0m\u001b[0;34m\u001b[0m\u001b[0m\n\u001b[0m\u001b[1;32m    347\u001b[0m         \u001b[0;32mexcept\u001b[0m \u001b[0;34m(\u001b[0m\u001b[0mSocketTimeout\u001b[0m\u001b[0;34m,\u001b[0m \u001b[0mBaseSSLError\u001b[0m\u001b[0;34m)\u001b[0m \u001b[0;32mas\u001b[0m \u001b[0me\u001b[0m\u001b[0;34m:\u001b[0m\u001b[0;34m\u001b[0m\u001b[0m\n",
      "\u001b[0;32m/usr/lib/python3/dist-packages/urllib3/connectionpool.py\u001b[0m in \u001b[0;36m_validate_conn\u001b[0;34m(self, conn)\u001b[0m\n\u001b[1;32m    851\u001b[0m         \u001b[0;32mif\u001b[0m \u001b[0;32mnot\u001b[0m \u001b[0mgetattr\u001b[0m\u001b[0;34m(\u001b[0m\u001b[0mconn\u001b[0m\u001b[0;34m,\u001b[0m \u001b[0;34m'sock'\u001b[0m\u001b[0;34m,\u001b[0m \u001b[0;32mNone\u001b[0m\u001b[0;34m)\u001b[0m\u001b[0;34m:\u001b[0m  \u001b[0;31m# AppEngine might not have  `.sock`\u001b[0m\u001b[0;34m\u001b[0m\u001b[0m\n\u001b[0;32m--> 852\u001b[0;31m             \u001b[0mconn\u001b[0m\u001b[0;34m.\u001b[0m\u001b[0mconnect\u001b[0m\u001b[0;34m(\u001b[0m\u001b[0;34m)\u001b[0m\u001b[0;34m\u001b[0m\u001b[0m\n\u001b[0m\u001b[1;32m    853\u001b[0m \u001b[0;34m\u001b[0m\u001b[0m\n",
      "\u001b[0;32m/usr/lib/python3/dist-packages/urllib3/connection.py\u001b[0m in \u001b[0;36mconnect\u001b[0;34m(self)\u001b[0m\n\u001b[1;32m    283\u001b[0m         \u001b[0;31m# Add certificate verification\u001b[0m\u001b[0;34m\u001b[0m\u001b[0;34m\u001b[0m\u001b[0m\n\u001b[0;32m--> 284\u001b[0;31m         \u001b[0mconn\u001b[0m \u001b[0;34m=\u001b[0m \u001b[0mself\u001b[0m\u001b[0;34m.\u001b[0m\u001b[0m_new_conn\u001b[0m\u001b[0;34m(\u001b[0m\u001b[0;34m)\u001b[0m\u001b[0;34m\u001b[0m\u001b[0m\n\u001b[0m\u001b[1;32m    285\u001b[0m \u001b[0;34m\u001b[0m\u001b[0m\n",
      "\u001b[0;32m/usr/lib/python3/dist-packages/urllib3/connection.py\u001b[0m in \u001b[0;36m_new_conn\u001b[0;34m(self)\u001b[0m\n\u001b[1;32m    149\u001b[0m             raise NewConnectionError(\n\u001b[0;32m--> 150\u001b[0;31m                 self, \"Failed to establish a new connection: %s\" % e)\n\u001b[0m\u001b[1;32m    151\u001b[0m \u001b[0;34m\u001b[0m\u001b[0m\n",
      "\u001b[0;31mNewConnectionError\u001b[0m: <botocore.awsrequest.AWSHTTPSConnection object at 0x7f3ecf1f81d0>: Failed to establish a new connection: [Errno -2] Name or service not known",
      "\nDuring handling of the above exception, another exception occurred:\n",
      "\u001b[0;31mEndpointConnectionError\u001b[0m                   Traceback (most recent call last)",
      "\u001b[0;32m<ipython-input-26-8403391c185c>\u001b[0m in \u001b[0;36m<module>\u001b[0;34m()\u001b[0m\n\u001b[1;32m      2\u001b[0m \u001b[0mhit_id\u001b[0m \u001b[0;34m=\u001b[0m \u001b[0;34m\"FILL THIS IN\"\u001b[0m\u001b[0;34m\u001b[0m\u001b[0m\n\u001b[1;32m      3\u001b[0m \u001b[0mqual_id_to_assign\u001b[0m \u001b[0;34m=\u001b[0m \u001b[0;34m\"FILL THIS IN\"\u001b[0m\u001b[0;34m\u001b[0m\u001b[0m\n\u001b[0;32m----> 4\u001b[0;31m \u001b[0massign_qual_for_hit\u001b[0m\u001b[0;34m(\u001b[0m\u001b[0mhit_id\u001b[0m\u001b[0;34m,\u001b[0m \u001b[0mqual_id_to_assign\u001b[0m\u001b[0;34m)\u001b[0m\u001b[0;34m\u001b[0m\u001b[0m\n\u001b[0m",
      "\u001b[0;32m<ipython-input-25-1ca33df74da5>\u001b[0m in \u001b[0;36massign_qual_for_hit\u001b[0;34m(hitid, qual_id)\u001b[0m\n\u001b[1;32m     49\u001b[0m \u001b[0;31m# Assigns qual with `qual_id` to every worker who has completed an assignment for the hit with `hitid`\u001b[0m\u001b[0;34m\u001b[0m\u001b[0;34m\u001b[0m\u001b[0m\n\u001b[1;32m     50\u001b[0m \u001b[0;32mdef\u001b[0m \u001b[0massign_qual_for_hit\u001b[0m\u001b[0;34m(\u001b[0m\u001b[0mhitid\u001b[0m\u001b[0;34m,\u001b[0m \u001b[0mqual_id\u001b[0m\u001b[0;34m)\u001b[0m\u001b[0;34m:\u001b[0m\u001b[0;34m\u001b[0m\u001b[0m\n\u001b[0;32m---> 51\u001b[0;31m     \u001b[0mworkers\u001b[0m \u001b[0;34m=\u001b[0m \u001b[0mget_workers_for_hit\u001b[0m\u001b[0;34m(\u001b[0m\u001b[0mhitid\u001b[0m\u001b[0;34m)\u001b[0m\u001b[0;34m\u001b[0m\u001b[0m\n\u001b[0m\u001b[1;32m     52\u001b[0m     \u001b[0mprint\u001b[0m\u001b[0;34m(\u001b[0m\u001b[0;34m\"got workers\"\u001b[0m\u001b[0;34m)\u001b[0m\u001b[0;34m\u001b[0m\u001b[0m\n\u001b[1;32m     53\u001b[0m     \u001b[0massign_qual\u001b[0m\u001b[0;34m(\u001b[0m\u001b[0mqual_id\u001b[0m\u001b[0;34m,\u001b[0m \u001b[0mworkers\u001b[0m\u001b[0;34m)\u001b[0m\u001b[0;34m\u001b[0m\u001b[0m\n",
      "\u001b[0;32m<ipython-input-25-1ca33df74da5>\u001b[0m in \u001b[0;36mget_workers_for_hit\u001b[0;34m(hitid)\u001b[0m\n\u001b[1;32m     32\u001b[0m \u001b[0;31m# Gets the ids of all workers who worked on a particular hit\u001b[0m\u001b[0;34m\u001b[0m\u001b[0;34m\u001b[0m\u001b[0m\n\u001b[1;32m     33\u001b[0m \u001b[0;32mdef\u001b[0m \u001b[0mget_workers_for_hit\u001b[0m\u001b[0;34m(\u001b[0m\u001b[0mhitid\u001b[0m\u001b[0;34m)\u001b[0m\u001b[0;34m:\u001b[0m\u001b[0;34m\u001b[0m\u001b[0m\n\u001b[0;32m---> 34\u001b[0;31m     \u001b[0ma\u001b[0m \u001b[0;34m=\u001b[0m \u001b[0mget_all_assignments\u001b[0m\u001b[0;34m(\u001b[0m\u001b[0mhitid\u001b[0m\u001b[0;34m)\u001b[0m\u001b[0;34m\u001b[0m\u001b[0m\n\u001b[0m\u001b[1;32m     35\u001b[0m     \u001b[0mworkers\u001b[0m \u001b[0;34m=\u001b[0m \u001b[0;34m[\u001b[0m\u001b[0ma_\u001b[0m\u001b[0;34m[\u001b[0m\u001b[0;34m'WorkerId'\u001b[0m\u001b[0;34m]\u001b[0m \u001b[0;32mfor\u001b[0m \u001b[0ma_\u001b[0m \u001b[0;32min\u001b[0m \u001b[0ma\u001b[0m\u001b[0;34m]\u001b[0m\u001b[0;34m\u001b[0m\u001b[0m\n\u001b[1;32m     36\u001b[0m     \u001b[0;32mreturn\u001b[0m \u001b[0mworkers\u001b[0m\u001b[0;34m\u001b[0m\u001b[0m\n",
      "\u001b[0;32m<ipython-input-20-86567d65c75e>\u001b[0m in \u001b[0;36mget_all_assignments\u001b[0;34m(hitid)\u001b[0m\n\u001b[1;32m     12\u001b[0m         \u001b[0;32mif\u001b[0m \u001b[0;34m(\u001b[0m\u001b[0mnext_token\u001b[0m\u001b[0;34m)\u001b[0m\u001b[0;34m:\u001b[0m\u001b[0;34m\u001b[0m\u001b[0m\n\u001b[1;32m     13\u001b[0m             \u001b[0margs\u001b[0m\u001b[0;34m[\u001b[0m\u001b[0;34m'NextToken'\u001b[0m\u001b[0;34m]\u001b[0m \u001b[0;34m=\u001b[0m \u001b[0mnext_token\u001b[0m\u001b[0;34m\u001b[0m\u001b[0m\n\u001b[0;32m---> 14\u001b[0;31m         \u001b[0mr\u001b[0m \u001b[0;34m=\u001b[0m \u001b[0mcl\u001b[0m\u001b[0;34m.\u001b[0m\u001b[0mlist_assignments_for_hit\u001b[0m\u001b[0;34m(\u001b[0m\u001b[0;34m**\u001b[0m\u001b[0margs\u001b[0m\u001b[0;34m)\u001b[0m\u001b[0;34m\u001b[0m\u001b[0m\n\u001b[0m\u001b[1;32m     15\u001b[0m         \u001b[0mnext_token\u001b[0m \u001b[0;34m=\u001b[0m \u001b[0mr\u001b[0m\u001b[0;34m.\u001b[0m\u001b[0mget\u001b[0m\u001b[0;34m(\u001b[0m\u001b[0;34m'NextToken'\u001b[0m\u001b[0;34m,\u001b[0m \u001b[0;32mFalse\u001b[0m\u001b[0;34m)\u001b[0m\u001b[0;34m\u001b[0m\u001b[0m\n\u001b[1;32m     16\u001b[0m         \u001b[0massignments\u001b[0m\u001b[0;34m.\u001b[0m\u001b[0mextend\u001b[0m\u001b[0;34m(\u001b[0m\u001b[0mr\u001b[0m\u001b[0;34m[\u001b[0m\u001b[0;34m\"Assignments\"\u001b[0m\u001b[0;34m]\u001b[0m\u001b[0;34m)\u001b[0m\u001b[0;34m\u001b[0m\u001b[0m\n",
      "\u001b[0;32m/usr/local/lib/python3.6/dist-packages/botocore/client.py\u001b[0m in \u001b[0;36m_api_call\u001b[0;34m(self, *args, **kwargs)\u001b[0m\n\u001b[1;32m    318\u001b[0m                     \"%s() only accepts keyword arguments.\" % py_operation_name)\n\u001b[1;32m    319\u001b[0m             \u001b[0;31m# The \"self\" in this scope is referring to the BaseClient.\u001b[0m\u001b[0;34m\u001b[0m\u001b[0;34m\u001b[0m\u001b[0m\n\u001b[0;32m--> 320\u001b[0;31m             \u001b[0;32mreturn\u001b[0m \u001b[0mself\u001b[0m\u001b[0;34m.\u001b[0m\u001b[0m_make_api_call\u001b[0m\u001b[0;34m(\u001b[0m\u001b[0moperation_name\u001b[0m\u001b[0;34m,\u001b[0m \u001b[0mkwargs\u001b[0m\u001b[0;34m)\u001b[0m\u001b[0;34m\u001b[0m\u001b[0m\n\u001b[0m\u001b[1;32m    321\u001b[0m \u001b[0;34m\u001b[0m\u001b[0m\n\u001b[1;32m    322\u001b[0m         \u001b[0m_api_call\u001b[0m\u001b[0;34m.\u001b[0m\u001b[0m__name__\u001b[0m \u001b[0;34m=\u001b[0m \u001b[0mstr\u001b[0m\u001b[0;34m(\u001b[0m\u001b[0mpy_operation_name\u001b[0m\u001b[0;34m)\u001b[0m\u001b[0;34m\u001b[0m\u001b[0m\n",
      "\u001b[0;32m/usr/local/lib/python3.6/dist-packages/botocore/client.py\u001b[0m in \u001b[0;36m_make_api_call\u001b[0;34m(self, operation_name, api_params)\u001b[0m\n\u001b[1;32m    608\u001b[0m         \u001b[0;32melse\u001b[0m\u001b[0;34m:\u001b[0m\u001b[0;34m\u001b[0m\u001b[0m\n\u001b[1;32m    609\u001b[0m             http, parsed_response = self._endpoint.make_request(\n\u001b[0;32m--> 610\u001b[0;31m                 operation_model, request_dict)\n\u001b[0m\u001b[1;32m    611\u001b[0m \u001b[0;34m\u001b[0m\u001b[0m\n\u001b[1;32m    612\u001b[0m         self.meta.events.emit(\n",
      "\u001b[0;32m/usr/local/lib/python3.6/dist-packages/botocore/endpoint.py\u001b[0m in \u001b[0;36mmake_request\u001b[0;34m(self, operation_model, request_dict)\u001b[0m\n\u001b[1;32m    100\u001b[0m         logger.debug(\"Making request for %s with params: %s\",\n\u001b[1;32m    101\u001b[0m                      operation_model, request_dict)\n\u001b[0;32m--> 102\u001b[0;31m         \u001b[0;32mreturn\u001b[0m \u001b[0mself\u001b[0m\u001b[0;34m.\u001b[0m\u001b[0m_send_request\u001b[0m\u001b[0;34m(\u001b[0m\u001b[0mrequest_dict\u001b[0m\u001b[0;34m,\u001b[0m \u001b[0moperation_model\u001b[0m\u001b[0;34m)\u001b[0m\u001b[0;34m\u001b[0m\u001b[0m\n\u001b[0m\u001b[1;32m    103\u001b[0m \u001b[0;34m\u001b[0m\u001b[0m\n\u001b[1;32m    104\u001b[0m     \u001b[0;32mdef\u001b[0m \u001b[0mcreate_request\u001b[0m\u001b[0;34m(\u001b[0m\u001b[0mself\u001b[0m\u001b[0;34m,\u001b[0m \u001b[0mparams\u001b[0m\u001b[0;34m,\u001b[0m \u001b[0moperation_model\u001b[0m\u001b[0;34m=\u001b[0m\u001b[0;32mNone\u001b[0m\u001b[0;34m)\u001b[0m\u001b[0;34m:\u001b[0m\u001b[0;34m\u001b[0m\u001b[0m\n",
      "\u001b[0;32m/usr/local/lib/python3.6/dist-packages/botocore/endpoint.py\u001b[0m in \u001b[0;36m_send_request\u001b[0;34m(self, request_dict, operation_model)\u001b[0m\n\u001b[1;32m    134\u001b[0m             request, operation_model, attempts)\n\u001b[1;32m    135\u001b[0m         while self._needs_retry(attempts, operation_model, request_dict,\n\u001b[0;32m--> 136\u001b[0;31m                                 success_response, exception):\n\u001b[0m\u001b[1;32m    137\u001b[0m             \u001b[0mattempts\u001b[0m \u001b[0;34m+=\u001b[0m \u001b[0;36m1\u001b[0m\u001b[0;34m\u001b[0m\u001b[0m\n\u001b[1;32m    138\u001b[0m             \u001b[0;31m# If there is a stream associated with the request, we need\u001b[0m\u001b[0;34m\u001b[0m\u001b[0;34m\u001b[0m\u001b[0m\n",
      "\u001b[0;32m/usr/local/lib/python3.6/dist-packages/botocore/endpoint.py\u001b[0m in \u001b[0;36m_needs_retry\u001b[0;34m(self, attempts, operation_model, request_dict, response, caught_exception)\u001b[0m\n\u001b[1;32m    203\u001b[0m             \u001b[0mevent_name\u001b[0m\u001b[0;34m,\u001b[0m \u001b[0mresponse\u001b[0m\u001b[0;34m=\u001b[0m\u001b[0mresponse\u001b[0m\u001b[0;34m,\u001b[0m \u001b[0mendpoint\u001b[0m\u001b[0;34m=\u001b[0m\u001b[0mself\u001b[0m\u001b[0;34m,\u001b[0m\u001b[0;34m\u001b[0m\u001b[0m\n\u001b[1;32m    204\u001b[0m             \u001b[0moperation\u001b[0m\u001b[0;34m=\u001b[0m\u001b[0moperation_model\u001b[0m\u001b[0;34m,\u001b[0m \u001b[0mattempts\u001b[0m\u001b[0;34m=\u001b[0m\u001b[0mattempts\u001b[0m\u001b[0;34m,\u001b[0m\u001b[0;34m\u001b[0m\u001b[0m\n\u001b[0;32m--> 205\u001b[0;31m             caught_exception=caught_exception, request_dict=request_dict)\n\u001b[0m\u001b[1;32m    206\u001b[0m         \u001b[0mhandler_response\u001b[0m \u001b[0;34m=\u001b[0m \u001b[0mfirst_non_none_response\u001b[0m\u001b[0;34m(\u001b[0m\u001b[0mresponses\u001b[0m\u001b[0;34m)\u001b[0m\u001b[0;34m\u001b[0m\u001b[0m\n\u001b[1;32m    207\u001b[0m         \u001b[0;32mif\u001b[0m \u001b[0mhandler_response\u001b[0m \u001b[0;32mis\u001b[0m \u001b[0;32mNone\u001b[0m\u001b[0;34m:\u001b[0m\u001b[0;34m\u001b[0m\u001b[0m\n",
      "\u001b[0;32m/usr/local/lib/python3.6/dist-packages/botocore/hooks.py\u001b[0m in \u001b[0;36memit\u001b[0;34m(self, event_name, **kwargs)\u001b[0m\n\u001b[1;32m    354\u001b[0m     \u001b[0;32mdef\u001b[0m \u001b[0memit\u001b[0m\u001b[0;34m(\u001b[0m\u001b[0mself\u001b[0m\u001b[0;34m,\u001b[0m \u001b[0mevent_name\u001b[0m\u001b[0;34m,\u001b[0m \u001b[0;34m**\u001b[0m\u001b[0mkwargs\u001b[0m\u001b[0;34m)\u001b[0m\u001b[0;34m:\u001b[0m\u001b[0;34m\u001b[0m\u001b[0m\n\u001b[1;32m    355\u001b[0m         \u001b[0maliased_event_name\u001b[0m \u001b[0;34m=\u001b[0m \u001b[0mself\u001b[0m\u001b[0;34m.\u001b[0m\u001b[0m_alias_event_name\u001b[0m\u001b[0;34m(\u001b[0m\u001b[0mevent_name\u001b[0m\u001b[0;34m)\u001b[0m\u001b[0;34m\u001b[0m\u001b[0m\n\u001b[0;32m--> 356\u001b[0;31m         \u001b[0;32mreturn\u001b[0m \u001b[0mself\u001b[0m\u001b[0;34m.\u001b[0m\u001b[0m_emitter\u001b[0m\u001b[0;34m.\u001b[0m\u001b[0memit\u001b[0m\u001b[0;34m(\u001b[0m\u001b[0maliased_event_name\u001b[0m\u001b[0;34m,\u001b[0m \u001b[0;34m**\u001b[0m\u001b[0mkwargs\u001b[0m\u001b[0;34m)\u001b[0m\u001b[0;34m\u001b[0m\u001b[0m\n\u001b[0m\u001b[1;32m    357\u001b[0m \u001b[0;34m\u001b[0m\u001b[0m\n\u001b[1;32m    358\u001b[0m     \u001b[0;32mdef\u001b[0m \u001b[0memit_until_response\u001b[0m\u001b[0;34m(\u001b[0m\u001b[0mself\u001b[0m\u001b[0;34m,\u001b[0m \u001b[0mevent_name\u001b[0m\u001b[0;34m,\u001b[0m \u001b[0;34m**\u001b[0m\u001b[0mkwargs\u001b[0m\u001b[0;34m)\u001b[0m\u001b[0;34m:\u001b[0m\u001b[0;34m\u001b[0m\u001b[0m\n",
      "\u001b[0;32m/usr/local/lib/python3.6/dist-packages/botocore/hooks.py\u001b[0m in \u001b[0;36memit\u001b[0;34m(self, event_name, **kwargs)\u001b[0m\n\u001b[1;32m    226\u001b[0m                  \u001b[0mhandlers\u001b[0m\u001b[0;34m.\u001b[0m\u001b[0;34m\u001b[0m\u001b[0m\n\u001b[1;32m    227\u001b[0m         \"\"\"\n\u001b[0;32m--> 228\u001b[0;31m         \u001b[0;32mreturn\u001b[0m \u001b[0mself\u001b[0m\u001b[0;34m.\u001b[0m\u001b[0m_emit\u001b[0m\u001b[0;34m(\u001b[0m\u001b[0mevent_name\u001b[0m\u001b[0;34m,\u001b[0m \u001b[0mkwargs\u001b[0m\u001b[0;34m)\u001b[0m\u001b[0;34m\u001b[0m\u001b[0m\n\u001b[0m\u001b[1;32m    229\u001b[0m \u001b[0;34m\u001b[0m\u001b[0m\n\u001b[1;32m    230\u001b[0m     \u001b[0;32mdef\u001b[0m \u001b[0memit_until_response\u001b[0m\u001b[0;34m(\u001b[0m\u001b[0mself\u001b[0m\u001b[0;34m,\u001b[0m \u001b[0mevent_name\u001b[0m\u001b[0;34m,\u001b[0m \u001b[0;34m**\u001b[0m\u001b[0mkwargs\u001b[0m\u001b[0;34m)\u001b[0m\u001b[0;34m:\u001b[0m\u001b[0;34m\u001b[0m\u001b[0m\n",
      "\u001b[0;32m/usr/local/lib/python3.6/dist-packages/botocore/hooks.py\u001b[0m in \u001b[0;36m_emit\u001b[0;34m(self, event_name, kwargs, stop_on_response)\u001b[0m\n\u001b[1;32m    209\u001b[0m         \u001b[0;32mfor\u001b[0m \u001b[0mhandler\u001b[0m \u001b[0;32min\u001b[0m \u001b[0mhandlers_to_call\u001b[0m\u001b[0;34m:\u001b[0m\u001b[0;34m\u001b[0m\u001b[0m\n\u001b[1;32m    210\u001b[0m             \u001b[0mlogger\u001b[0m\u001b[0;34m.\u001b[0m\u001b[0mdebug\u001b[0m\u001b[0;34m(\u001b[0m\u001b[0;34m'Event %s: calling handler %s'\u001b[0m\u001b[0;34m,\u001b[0m \u001b[0mevent_name\u001b[0m\u001b[0;34m,\u001b[0m \u001b[0mhandler\u001b[0m\u001b[0;34m)\u001b[0m\u001b[0;34m\u001b[0m\u001b[0m\n\u001b[0;32m--> 211\u001b[0;31m             \u001b[0mresponse\u001b[0m \u001b[0;34m=\u001b[0m \u001b[0mhandler\u001b[0m\u001b[0;34m(\u001b[0m\u001b[0;34m**\u001b[0m\u001b[0mkwargs\u001b[0m\u001b[0;34m)\u001b[0m\u001b[0;34m\u001b[0m\u001b[0m\n\u001b[0m\u001b[1;32m    212\u001b[0m             \u001b[0mresponses\u001b[0m\u001b[0;34m.\u001b[0m\u001b[0mappend\u001b[0m\u001b[0;34m(\u001b[0m\u001b[0;34m(\u001b[0m\u001b[0mhandler\u001b[0m\u001b[0;34m,\u001b[0m \u001b[0mresponse\u001b[0m\u001b[0;34m)\u001b[0m\u001b[0;34m)\u001b[0m\u001b[0;34m\u001b[0m\u001b[0m\n\u001b[1;32m    213\u001b[0m             \u001b[0;32mif\u001b[0m \u001b[0mstop_on_response\u001b[0m \u001b[0;32mand\u001b[0m \u001b[0mresponse\u001b[0m \u001b[0;32mis\u001b[0m \u001b[0;32mnot\u001b[0m \u001b[0;32mNone\u001b[0m\u001b[0;34m:\u001b[0m\u001b[0;34m\u001b[0m\u001b[0m\n",
      "\u001b[0;32m/usr/local/lib/python3.6/dist-packages/botocore/retryhandler.py\u001b[0m in \u001b[0;36m__call__\u001b[0;34m(self, attempts, response, caught_exception, **kwargs)\u001b[0m\n\u001b[1;32m    181\u001b[0m \u001b[0;34m\u001b[0m\u001b[0m\n\u001b[1;32m    182\u001b[0m         \"\"\"\n\u001b[0;32m--> 183\u001b[0;31m         \u001b[0;32mif\u001b[0m \u001b[0mself\u001b[0m\u001b[0;34m.\u001b[0m\u001b[0m_checker\u001b[0m\u001b[0;34m(\u001b[0m\u001b[0mattempts\u001b[0m\u001b[0;34m,\u001b[0m \u001b[0mresponse\u001b[0m\u001b[0;34m,\u001b[0m \u001b[0mcaught_exception\u001b[0m\u001b[0;34m)\u001b[0m\u001b[0;34m:\u001b[0m\u001b[0;34m\u001b[0m\u001b[0m\n\u001b[0m\u001b[1;32m    184\u001b[0m             \u001b[0mresult\u001b[0m \u001b[0;34m=\u001b[0m \u001b[0mself\u001b[0m\u001b[0;34m.\u001b[0m\u001b[0m_action\u001b[0m\u001b[0;34m(\u001b[0m\u001b[0mattempts\u001b[0m\u001b[0;34m=\u001b[0m\u001b[0mattempts\u001b[0m\u001b[0;34m)\u001b[0m\u001b[0;34m\u001b[0m\u001b[0m\n\u001b[1;32m    185\u001b[0m             \u001b[0mlogger\u001b[0m\u001b[0;34m.\u001b[0m\u001b[0mdebug\u001b[0m\u001b[0;34m(\u001b[0m\u001b[0;34m\"Retry needed, action of: %s\"\u001b[0m\u001b[0;34m,\u001b[0m \u001b[0mresult\u001b[0m\u001b[0;34m)\u001b[0m\u001b[0;34m\u001b[0m\u001b[0m\n",
      "\u001b[0;32m/usr/local/lib/python3.6/dist-packages/botocore/retryhandler.py\u001b[0m in \u001b[0;36m__call__\u001b[0;34m(self, attempt_number, response, caught_exception)\u001b[0m\n\u001b[1;32m    249\u001b[0m     \u001b[0;32mdef\u001b[0m \u001b[0m__call__\u001b[0m\u001b[0;34m(\u001b[0m\u001b[0mself\u001b[0m\u001b[0;34m,\u001b[0m \u001b[0mattempt_number\u001b[0m\u001b[0;34m,\u001b[0m \u001b[0mresponse\u001b[0m\u001b[0;34m,\u001b[0m \u001b[0mcaught_exception\u001b[0m\u001b[0;34m)\u001b[0m\u001b[0;34m:\u001b[0m\u001b[0;34m\u001b[0m\u001b[0m\n\u001b[1;32m    250\u001b[0m         should_retry = self._should_retry(attempt_number, response,\n\u001b[0;32m--> 251\u001b[0;31m                                           caught_exception)\n\u001b[0m\u001b[1;32m    252\u001b[0m         \u001b[0;32mif\u001b[0m \u001b[0mshould_retry\u001b[0m\u001b[0;34m:\u001b[0m\u001b[0;34m\u001b[0m\u001b[0m\n\u001b[1;32m    253\u001b[0m             \u001b[0;32mif\u001b[0m \u001b[0mattempt_number\u001b[0m \u001b[0;34m>=\u001b[0m \u001b[0mself\u001b[0m\u001b[0;34m.\u001b[0m\u001b[0m_max_attempts\u001b[0m\u001b[0;34m:\u001b[0m\u001b[0;34m\u001b[0m\u001b[0m\n",
      "\u001b[0;32m/usr/local/lib/python3.6/dist-packages/botocore/retryhandler.py\u001b[0m in \u001b[0;36m_should_retry\u001b[0;34m(self, attempt_number, response, caught_exception)\u001b[0m\n\u001b[1;32m    275\u001b[0m             \u001b[0;31m# If we've exceeded the max attempts we just let the exception\u001b[0m\u001b[0;34m\u001b[0m\u001b[0;34m\u001b[0m\u001b[0m\n\u001b[1;32m    276\u001b[0m             \u001b[0;31m# propogate if one has occurred.\u001b[0m\u001b[0;34m\u001b[0m\u001b[0;34m\u001b[0m\u001b[0m\n\u001b[0;32m--> 277\u001b[0;31m             \u001b[0;32mreturn\u001b[0m \u001b[0mself\u001b[0m\u001b[0;34m.\u001b[0m\u001b[0m_checker\u001b[0m\u001b[0;34m(\u001b[0m\u001b[0mattempt_number\u001b[0m\u001b[0;34m,\u001b[0m \u001b[0mresponse\u001b[0m\u001b[0;34m,\u001b[0m \u001b[0mcaught_exception\u001b[0m\u001b[0;34m)\u001b[0m\u001b[0;34m\u001b[0m\u001b[0m\n\u001b[0m\u001b[1;32m    278\u001b[0m \u001b[0;34m\u001b[0m\u001b[0m\n\u001b[1;32m    279\u001b[0m \u001b[0;34m\u001b[0m\u001b[0m\n",
      "\u001b[0;32m/usr/local/lib/python3.6/dist-packages/botocore/retryhandler.py\u001b[0m in \u001b[0;36m__call__\u001b[0;34m(self, attempt_number, response, caught_exception)\u001b[0m\n\u001b[1;32m    315\u001b[0m         \u001b[0;32mfor\u001b[0m \u001b[0mchecker\u001b[0m \u001b[0;32min\u001b[0m \u001b[0mself\u001b[0m\u001b[0;34m.\u001b[0m\u001b[0m_checkers\u001b[0m\u001b[0;34m:\u001b[0m\u001b[0;34m\u001b[0m\u001b[0m\n\u001b[1;32m    316\u001b[0m             checker_response = checker(attempt_number, response,\n\u001b[0;32m--> 317\u001b[0;31m                                        caught_exception)\n\u001b[0m\u001b[1;32m    318\u001b[0m             \u001b[0;32mif\u001b[0m \u001b[0mchecker_response\u001b[0m\u001b[0;34m:\u001b[0m\u001b[0;34m\u001b[0m\u001b[0m\n\u001b[1;32m    319\u001b[0m                 \u001b[0;32mreturn\u001b[0m \u001b[0mchecker_response\u001b[0m\u001b[0;34m\u001b[0m\u001b[0m\n",
      "\u001b[0;32m/usr/local/lib/python3.6/dist-packages/botocore/retryhandler.py\u001b[0m in \u001b[0;36m__call__\u001b[0;34m(self, attempt_number, response, caught_exception)\u001b[0m\n\u001b[1;32m    221\u001b[0m         \u001b[0;32melif\u001b[0m \u001b[0mcaught_exception\u001b[0m \u001b[0;32mis\u001b[0m \u001b[0;32mnot\u001b[0m \u001b[0;32mNone\u001b[0m\u001b[0;34m:\u001b[0m\u001b[0;34m\u001b[0m\u001b[0m\n\u001b[1;32m    222\u001b[0m             return self._check_caught_exception(\n\u001b[0;32m--> 223\u001b[0;31m                 attempt_number, caught_exception)\n\u001b[0m\u001b[1;32m    224\u001b[0m         \u001b[0;32melse\u001b[0m\u001b[0;34m:\u001b[0m\u001b[0;34m\u001b[0m\u001b[0m\n\u001b[1;32m    225\u001b[0m             \u001b[0;32mraise\u001b[0m \u001b[0mValueError\u001b[0m\u001b[0;34m(\u001b[0m\u001b[0;34m\"Both response and caught_exception are None.\"\u001b[0m\u001b[0;34m)\u001b[0m\u001b[0;34m\u001b[0m\u001b[0m\n",
      "\u001b[0;32m/usr/local/lib/python3.6/dist-packages/botocore/retryhandler.py\u001b[0m in \u001b[0;36m_check_caught_exception\u001b[0;34m(self, attempt_number, caught_exception)\u001b[0m\n\u001b[1;32m    357\u001b[0m         \u001b[0;31m# the MaxAttemptsDecorator is not interested in retrying the exception\u001b[0m\u001b[0;34m\u001b[0m\u001b[0;34m\u001b[0m\u001b[0m\n\u001b[1;32m    358\u001b[0m         \u001b[0;31m# then this exception just propogates out past the retry code.\u001b[0m\u001b[0;34m\u001b[0m\u001b[0;34m\u001b[0m\u001b[0m\n\u001b[0;32m--> 359\u001b[0;31m         \u001b[0;32mraise\u001b[0m \u001b[0mcaught_exception\u001b[0m\u001b[0;34m\u001b[0m\u001b[0m\n\u001b[0m",
      "\u001b[0;32m/usr/local/lib/python3.6/dist-packages/botocore/endpoint.py\u001b[0m in \u001b[0;36m_get_response\u001b[0;34m(self, request, operation_model, attempts)\u001b[0m\n\u001b[1;32m    172\u001b[0m                 \u001b[0;34m'body'\u001b[0m\u001b[0;34m:\u001b[0m \u001b[0mrequest\u001b[0m\u001b[0;34m.\u001b[0m\u001b[0mbody\u001b[0m\u001b[0;34m\u001b[0m\u001b[0m\n\u001b[1;32m    173\u001b[0m             })\n\u001b[0;32m--> 174\u001b[0;31m             \u001b[0mhttp_response\u001b[0m \u001b[0;34m=\u001b[0m \u001b[0mself\u001b[0m\u001b[0;34m.\u001b[0m\u001b[0m_send\u001b[0m\u001b[0;34m(\u001b[0m\u001b[0mrequest\u001b[0m\u001b[0;34m)\u001b[0m\u001b[0;34m\u001b[0m\u001b[0m\n\u001b[0m\u001b[1;32m    175\u001b[0m         \u001b[0;32mexcept\u001b[0m \u001b[0mHTTPClientError\u001b[0m \u001b[0;32mas\u001b[0m \u001b[0me\u001b[0m\u001b[0;34m:\u001b[0m\u001b[0;34m\u001b[0m\u001b[0m\n\u001b[1;32m    176\u001b[0m             \u001b[0;32mreturn\u001b[0m \u001b[0;34m(\u001b[0m\u001b[0;32mNone\u001b[0m\u001b[0;34m,\u001b[0m \u001b[0me\u001b[0m\u001b[0;34m)\u001b[0m\u001b[0;34m\u001b[0m\u001b[0m\n",
      "\u001b[0;32m/usr/local/lib/python3.6/dist-packages/botocore/endpoint.py\u001b[0m in \u001b[0;36m_send\u001b[0;34m(self, request)\u001b[0m\n\u001b[1;32m    216\u001b[0m \u001b[0;34m\u001b[0m\u001b[0m\n\u001b[1;32m    217\u001b[0m     \u001b[0;32mdef\u001b[0m \u001b[0m_send\u001b[0m\u001b[0;34m(\u001b[0m\u001b[0mself\u001b[0m\u001b[0;34m,\u001b[0m \u001b[0mrequest\u001b[0m\u001b[0;34m)\u001b[0m\u001b[0;34m:\u001b[0m\u001b[0;34m\u001b[0m\u001b[0m\n\u001b[0;32m--> 218\u001b[0;31m         \u001b[0;32mreturn\u001b[0m \u001b[0mself\u001b[0m\u001b[0;34m.\u001b[0m\u001b[0mhttp_session\u001b[0m\u001b[0;34m.\u001b[0m\u001b[0msend\u001b[0m\u001b[0;34m(\u001b[0m\u001b[0mrequest\u001b[0m\u001b[0;34m)\u001b[0m\u001b[0;34m\u001b[0m\u001b[0m\n\u001b[0m\u001b[1;32m    219\u001b[0m \u001b[0;34m\u001b[0m\u001b[0m\n\u001b[1;32m    220\u001b[0m \u001b[0;34m\u001b[0m\u001b[0m\n",
      "\u001b[0;32m/usr/local/lib/python3.6/dist-packages/botocore/httpsession.py\u001b[0m in \u001b[0;36msend\u001b[0;34m(self, request)\u001b[0m\n\u001b[1;32m    260\u001b[0m             \u001b[0;32mraise\u001b[0m \u001b[0mSSLError\u001b[0m\u001b[0;34m(\u001b[0m\u001b[0mendpoint_url\u001b[0m\u001b[0;34m=\u001b[0m\u001b[0mrequest\u001b[0m\u001b[0;34m.\u001b[0m\u001b[0murl\u001b[0m\u001b[0;34m,\u001b[0m \u001b[0merror\u001b[0m\u001b[0;34m=\u001b[0m\u001b[0me\u001b[0m\u001b[0;34m)\u001b[0m\u001b[0;34m\u001b[0m\u001b[0m\n\u001b[1;32m    261\u001b[0m         \u001b[0;32mexcept\u001b[0m \u001b[0;34m(\u001b[0m\u001b[0mNewConnectionError\u001b[0m\u001b[0;34m,\u001b[0m \u001b[0msocket\u001b[0m\u001b[0;34m.\u001b[0m\u001b[0mgaierror\u001b[0m\u001b[0;34m)\u001b[0m \u001b[0;32mas\u001b[0m \u001b[0me\u001b[0m\u001b[0;34m:\u001b[0m\u001b[0;34m\u001b[0m\u001b[0m\n\u001b[0;32m--> 262\u001b[0;31m             \u001b[0;32mraise\u001b[0m \u001b[0mEndpointConnectionError\u001b[0m\u001b[0;34m(\u001b[0m\u001b[0mendpoint_url\u001b[0m\u001b[0;34m=\u001b[0m\u001b[0mrequest\u001b[0m\u001b[0;34m.\u001b[0m\u001b[0murl\u001b[0m\u001b[0;34m,\u001b[0m \u001b[0merror\u001b[0m\u001b[0;34m=\u001b[0m\u001b[0me\u001b[0m\u001b[0;34m)\u001b[0m\u001b[0;34m\u001b[0m\u001b[0m\n\u001b[0m\u001b[1;32m    263\u001b[0m         \u001b[0;32mexcept\u001b[0m \u001b[0mProxyError\u001b[0m \u001b[0;32mas\u001b[0m \u001b[0me\u001b[0m\u001b[0;34m:\u001b[0m\u001b[0;34m\u001b[0m\u001b[0m\n\u001b[1;32m    264\u001b[0m             \u001b[0;32mraise\u001b[0m \u001b[0mProxyConnectionError\u001b[0m\u001b[0;34m(\u001b[0m\u001b[0mproxy_url\u001b[0m\u001b[0;34m=\u001b[0m\u001b[0mproxy_url\u001b[0m\u001b[0;34m,\u001b[0m \u001b[0merror\u001b[0m\u001b[0;34m=\u001b[0m\u001b[0me\u001b[0m\u001b[0;34m)\u001b[0m\u001b[0;34m\u001b[0m\u001b[0m\n",
      "\u001b[0;31mEndpointConnectionError\u001b[0m: Could not connect to the endpoint URL: \"https://mturk-requester-sandbox.us-east-1.amazonaws.com/\""
     ]
    }
   ],
   "source": [
    "# Use this cell to assign a custom qual to every worker who has done a specific HIT\n",
    "hit_id = \"FILL THIS IN\"\n",
    "qual_id_to_assign = \"FILL THIS IN\"\n",
    "assign_qual_for_hit(hit_id, qual_id_to_assign)"
   ]
  },
  {
   "cell_type": "markdown",
   "metadata": {},
   "source": [
    "# Download data"
   ]
  },
  {
   "cell_type": "markdown",
   "metadata": {},
   "source": [
    "Helper to download data from MTurk "
   ]
  },
  {
   "cell_type": "code",
   "execution_count": 98,
   "metadata": {},
   "outputs": [],
   "source": [
    "from bs4 import BeautifulSoup as bs \n",
    "import pprint\n",
    "\n",
    "def pretty_print(obj):\n",
    "    pp = pprint.PrettyPrinter(indent=4)\n",
    "    pp.pprint(obj)\n",
    "    pp = None\n",
    "\n",
    "# Downloads all the assignments completed for `hits` as a list of dictionaries. \n",
    "# If a download_path is given, also saves that data as json \n",
    "def get_assignment_content(hits, download_path=\"\", should_print=False): \n",
    "    all_responses = []\n",
    "    for hit in hits: \n",
    "        hitid = hit['HITId']\n",
    "        assignments = get_all_assignments(hitid)\n",
    "        for a in assignments:\n",
    "            print(a)\n",
    "            a_xml = a['Answer']\n",
    "            #print(a_xml)\n",
    "            soup = bs(a_xml, \"html.parser\")\n",
    "            answers = soup.find_all(\"answer\")\n",
    "            #print(answers)\n",
    "            results = {'HITId': a['HITId'], 'AssignmentId': a['AssignmentId'], 'WorkerId': a['WorkerId']}\n",
    "            for ans in answers: \n",
    "                identifier = ans.find('questionidentifier').string\n",
    "                answer = ans.find('freetext').string\n",
    "                try: \n",
    "                    results[identifier] = json.loads(answer)\n",
    "                except:\n",
    "                    results[identifier] = answer\n",
    "            all_responses.append(results)\n",
    "    if should_print: \n",
    "        pretty_print(all_responses)\n",
    "    if download_path: \n",
    "        with open(download_path, 'w') as outfile: \n",
    "            json.dump(all_responses, outfile)\n",
    "    return all_responses\n",
    "            "
   ]
  },
  {
   "cell_type": "code",
   "execution_count": 99,
   "metadata": {},
   "outputs": [
    {
     "name": "stdout",
     "output_type": "stream",
     "text": [
      "{'AssignmentId': '3F0BG9B9MQX1LI4RQH770U96Y8U7YH', 'WorkerId': 'A1G9Z0CL537336', 'HITId': '3TZ0XG8CBUTNXB38281VQTGTS2089M', 'AssignmentStatus': 'Approved', 'AutoApprovalTime': datetime.datetime(2018, 10, 30, 13, 36, 51, tzinfo=tzlocal()), 'AcceptTime': datetime.datetime(2018, 10, 23, 13, 36, 17, tzinfo=tzlocal()), 'SubmitTime': datetime.datetime(2018, 10, 23, 13, 36, 51, tzinfo=tzlocal()), 'ApprovalTime': datetime.datetime(2018, 10, 23, 13, 37, 49, tzinfo=tzlocal()), 'Answer': '<?xml version=\"1.0\" encoding=\"UTF-8\" standalone=\"no\"?>\\n<QuestionFormAnswers xmlns=\"http://mechanicalturk.amazonaws.com/AWSMechanicalTurkDataSchemas/2005-10-01/QuestionFormAnswers.xsd\">\\n<Answer>\\n<QuestionIdentifier>key</QuestionIdentifier>\\n<FreeText>8c52ab76-2c6b-4b0b-b1da-560d3498af4c</FreeText>\\n</Answer>\\n</QuestionFormAnswers>\\n'}\n"
     ]
    }
   ],
   "source": [
    "# Use this cell to download data\n",
    "responses = get_assignment_content(hits, download_path=SAVE_PATH, should_print=False)\n",
    "pass"
   ]
  },
  {
   "cell_type": "code",
   "execution_count": null,
   "metadata": {},
   "outputs": [],
   "source": []
  }
 ],
 "metadata": {
  "kernelspec": {
   "display_name": "Python 3",
   "language": "python",
   "name": "python3"
  },
  "language_info": {
   "codemirror_mode": {
    "name": "ipython",
    "version": 3
   },
   "file_extension": ".py",
   "mimetype": "text/x-python",
   "name": "python",
   "nbconvert_exporter": "python",
   "pygments_lexer": "ipython3",
   "version": "3.6.5"
  }
 },
 "nbformat": 4,
 "nbformat_minor": 2
}
